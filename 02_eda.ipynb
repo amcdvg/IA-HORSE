{
 "cells": [
  {
   "cell_type": "markdown",
   "metadata": {},
   "source": [
    "# Part 2: Horse Race Prediction\n",
    "## Exploratory Data Analysis"
   ]
  },
  {
   "cell_type": "code",
   "execution_count": null,
   "metadata": {},
   "outputs": [],
   "source": [
    "import pandas as pd\n",
    "import numpy as np\n",
    "import matplotlib.pyplot as plt\n",
    "import seaborn as sns\n",
    "\n",
    "%matplotlib inline\n",
    "%load_ext autotime\n",
    "\n",
    "import warnings\n",
    "warnings.filterwarnings(\"ignore\")"
   ]
  },
  {
   "cell_type": "code",
   "execution_count": null,
   "metadata": {},
   "outputs": [],
   "source": [
    "# Read the train data\n",
    "df_train = pd.read_csv(\"D:\\\\documentos\\\\IA Caballos\\\\hurdle_data\\\\df_train.csv\")\n",
    "\n",
    "# Read the test data\n",
    "df_test = pd.read_csv(\"D:\\\\documentos\\\\IA Caballos\\\\hurdle_data\\\\df_test.csv\")\n",
    "\n",
    "# Concatenate the train and test data\n",
    "df = pd.concat([df_train, df_test], axis=0)\n",
    "df.head()\n",
    "\n",
    "# Save df as df_train\n",
    "df_train = df.copy()"
   ]
  },
  {
   "cell_type": "code",
   "execution_count": null,
   "metadata": {},
   "outputs": [],
   "source": [
    "# Check the info of the train data\n",
    "df_train.info()"
   ]
  },
  {
   "cell_type": "code",
   "execution_count": null,
   "metadata": {},
   "outputs": [],
   "source": [
    "# Draw the mean of a horse weight on same plot\n",
    "plt.figure(figsize=(12, 8))\n",
    "sns.distplot(df_train['declared_horse_weight'], bins=100, kde=False)\n",
    "plt.title(\"Distribution of a horse weight\")\n",
    "plt.xlabel(\"Weight\")\n",
    "plt.ylabel(\"Count\")\n",
    "plt.axvline(df_train['declared_horse_weight'].mean(), color='r', linestyle='dashed', linewidth=2)\n",
    "\n",
    "plt.show()\n"
   ]
  },
  {
   "cell_type": "code",
   "execution_count": null,
   "metadata": {},
   "outputs": [],
   "source": [
    "# Find the number of horses each race\n",
    "numHorsePerRace = df_train.groupby('race_id')['horse_id'].count().value_counts()"
   ]
  },
  {
   "cell_type": "code",
   "execution_count": null,
   "metadata": {},
   "outputs": [],
   "source": [
    "# Plot the distribution of the number of horses\n",
    "plt.figure(figsize=(10, 5))\n",
    "sns.barplot(x=numHorsePerRace.index, y=numHorsePerRace.values)\n",
    "plt.xlabel('Number of Horses', fontsize=12)\n",
    "plt.ylabel\n",
    "\n",
    "# Set title\n",
    "plt.title('Distribution of Number of Horses per Race', fontsize=15)\n"
   ]
  },
  {
   "cell_type": "code",
   "execution_count": null,
   "metadata": {},
   "outputs": [],
   "source": [
    "# Plot the distribution of actual weight\n",
    "plt.figure(figsize=(10, 5))\n",
    "sns.distplot(df_train['declared_horse_weight'], kde=False)\n",
    "plt.xlabel('Actual Weight', fontsize=12)\n",
    "plt.ylabel('Count', fontsize=12)\n",
    "plt.title('Distribution of Actual Weight', fontsize=15)\n"
   ]
  },
  {
   "cell_type": "code",
   "execution_count": null,
   "metadata": {},
   "outputs": [],
   "source": [
    "# plot recent average rank against win_odds\n",
    "plt.figure(figsize=(10, 5))\n",
    "sns.scatterplot(x='recent_ave_rank', y='win_odds', data=df_train, s=5, color='g')\n",
    "plt.xlabel('Recent Average Rank', fontsize=12)\n",
    "plt.ylabel('Win Odds', fontsize=12)\n",
    "plt.title('Recent Average Rank vs Win Odds', fontsize=15)\n"
   ]
  },
  {
   "cell_type": "code",
   "execution_count": null,
   "metadata": {},
   "outputs": [],
   "source": [
    "# Plot mean of win odds against finishings\n",
    "df_train['win_odds'] = df_train['win_odds'].str.rstrip('%').astype('float') / 100.0\n",
    "plt.figure(figsize=(10, 5))\n",
    "sns.barplot(x=df_train['finishing_position'].unique(), y=df_train.groupby('finishing_position')['win_odds'].mean(), palette='Greens_d')\n",
    "plt.xlabel('Finishing Position', fontsize=12)\n",
    "plt.ylabel('Mean Win Odds', fontsize=12)\n",
    "plt.title('Mean Win Odds against Finishing Position', fontsize=15)"
   ]
  },
  {
   "cell_type": "code",
   "execution_count": null,
   "metadata": {},
   "outputs": [],
   "source": [
    "# Plot distribution of actual weight against win odds\n",
    "plt.figure(figsize=(10, 5))\n",
    "sns.scatterplot(x='declared_horse_weight', y='win_odds', data=df_train)\n",
    "plt.xlabel('Actual Weight', fontsize=12)\n",
    "plt.ylabel('Win Odds', fontsize=12)\n",
    "plt.title('Distribution of Actual Weight against Win Odds', fontsize=15)\n"
   ]
  },
  {
   "cell_type": "code",
   "execution_count": null,
   "metadata": {},
   "outputs": [],
   "source": [
    "# Plot distribution of actual weight against horse number\n",
    "plt.figure(figsize=(10, 5))\n",
    "sns.scatterplot(x='declared_horse_weight', y='horse_rate', data=df_train)\n",
    "plt.xlabel('Actual Weight', fontsize=12)\n",
    "plt.ylabel('Horse Rate', fontsize=12)\n",
    "plt.title('Distribution of Actual Weight against Horse Number', fontsize=15)\n"
   ]
  },
  {
   "cell_type": "markdown",
   "metadata": {},
   "source": [
    "Hong Kong horse racing uses the handicap system. Horse number #1 has the highest rating and carry the heaviest weight."
   ]
  },
  {
   "cell_type": "code",
   "execution_count": null,
   "metadata": {},
   "outputs": [],
   "source": [
    "# Find the mean of actual weight for each horse number\n",
    "meanWtPerHorse = df_train.groupby('horse_rate')['declared_horse_weight'].mean()\n",
    "\n",
    "# Plot the distribution of mean actual weight for each horse number\n",
    "plt.figure(figsize=(10, 5))\n",
    "sns.barplot(x=meanWtPerHorse, y=meanWtPerHorse.values, palette='Greens_d')\n",
    "plt.xlabel('Horse Number', fontsize=12)\n",
    "plt.ylabel('Mean Actual Weight', fontsize=12)\n",
    "plt.title('Distribution of Mean Actual Weight for Each Horse Number', fontsize=15)\n"
   ]
  },
  {
   "cell_type": "code",
   "execution_count": null,
   "metadata": {},
   "outputs": [],
   "source": [
    "# Plot the distribution of finishing position against draw\n",
    "plt.figure(figsize=(10, 5))\n",
    "sns.scatterplot(x='draw', y='finishing_position', data=df_train)\n",
    "plt.xlabel('Draw', fontsize=12)\n",
    "plt.ylabel('Finishing Position', fontsize=12)\n",
    "plt.title('Distribution of Finishing Position against Draw', fontsize=15)\n"
   ]
  },
  {
   "cell_type": "markdown",
   "metadata": {},
   "source": [
    "The gate number for each horse is drawn 2 days before the races. Gate number 1 is the closest to the inside rail. Thus, we would expect better performance for horses with lower draw number."
   ]
  },
  {
   "cell_type": "code",
   "execution_count": null,
   "metadata": {},
   "outputs": [],
   "source": [
    "# Return only 14 columns. Draw #15 is not included.\n",
    "avgPos_vs_Draw = df_train.groupby('draw')['finishing_position'].mean()[:14]\n",
    "\n",
    "# Plot the distribution of average finishing position against draw\n",
    "plt.figure(figsize=(10, 5))\n",
    "sns.barplot(x=avgPos_vs_Draw.index, y=avgPos_vs_Draw.values, palette='Greens_d')\n",
    "plt.xlabel('Draw', fontsize=12)\n",
    "plt.ylabel('Average Finishing Position', fontsize=12)\n",
    "plt.title('Distribution of Average Finishing Position against Draw', fontsize=15)\n"
   ]
  },
  {
   "cell_type": "code",
   "execution_count": null,
   "metadata": {},
   "outputs": [],
   "source": [
    "# Find the mean of horse weight for each position\n",
    "meanHorseWtPerPos = df_train.groupby('finishing_position')['declared_horse_weight'].mean()#[:14]\n",
    "mean = meanHorseWtPerPos.values\n",
    "print(mean)\n",
    "\n",
    "# Plot the distribution of mean horse weight for each position\n",
    "plt.figure(figsize=(10, 5))\n",
    "sns.barplot(x=meanHorseWtPerPos.index, y=mean, palette='Greens_d')\n",
    "plt.xlabel('Finishing Position', fontsize=12)\n",
    "plt.ylabel('Mean Horse Weight', fontsize=12)\n",
    "plt.title('Distribution of Mean Horse Weight for Each Finishing Position', fontsize=15)\n",
    "\n",
    "# Set y limit\n",
    "#plt.ylim(1070, 1120)\n"
   ]
  },
  {
   "cell_type": "markdown",
   "metadata": {},
   "source": [
    "Not conclusive to say that there is a relationship between horse weight and finishing position."
   ]
  },
  {
   "cell_type": "code",
   "execution_count": null,
   "metadata": {},
   "outputs": [],
   "source": [
    "# view df_train\n",
    "df_train.head()\n"
   ]
  },
  {
   "cell_type": "code",
   "execution_count": null,
   "metadata": {},
   "outputs": [],
   "source": [
    "# keep only features we want\n",
    "#'actual_weight',\n",
    "cols = ['finishing_position',  'declared_horse_weight', 'draw', 'recent_ave_rank', \n",
    "        'jockey_ave_rank','trainer_ave_rank', 'race_distance', 'jockey_hurdle_rate','trainers_hurdle_rate']\n",
    "\n",
    "# view the correlation matrix\n",
    "corr = df_train[cols].corr()\n",
    "\n",
    "# do a mask to hide the upper triangle\n",
    "mask = np.zeros_like(corr, dtype=np.bool)\n",
    "mask[np.triu_indices_from(mask)] = True\n",
    "\n",
    "# plot the heatmap with the mask and correct aspect ratio\n",
    "plt.figure(figsize=(10, 5))\n",
    "sns.heatmap(corr, mask=mask, cmap='coolwarm', vmax=1, vmin=-1, \n",
    "            center=0, square=False, linewidths=.5, \n",
    "            cbar_kws={\"shrink\": .8}, annot=True)\n",
    "plt.title('Correlation Matrix', fontsize=15)\n",
    "\n",
    "# rotate the ticklabels for easier reading\n",
    "plt.xticks(rotation=45)\n",
    "\n"
   ]
  },
  {
   "cell_type": "markdown",
   "metadata": {},
   "source": [
    "## Find the best jockey"
   ]
  },
  {
   "cell_type": "code",
   "execution_count": null,
   "metadata": {},
   "outputs": [],
   "source": [
    "# Find out how many jockeys are there\n",
    "print(\"There are {} jockeys in the dataset.\".format(len(df_train['jockey'].unique())))"
   ]
  },
  {
   "cell_type": "code",
   "execution_count": null,
   "metadata": {},
   "outputs": [],
   "source": [
    "# Finding the number of wins per jockey\n",
    "jockeyWins = df_train.groupby('jockey')['finishing_position'].apply(lambda x: (x==1).sum())\n",
    "\n",
    "# Finding the win rate per jockey\n",
    "jockeyWinRate = df_train.groupby('jockey')['HorseWin'].mean()"
   ]
  },
  {
   "cell_type": "code",
   "execution_count": null,
   "metadata": {},
   "outputs": [],
   "source": [
    "# Plot win rate against number of wins\n",
    "plt.figure(figsize=(10, 5))\n",
    "sns.scatterplot(x=jockeyWinRate, y=jockeyWins)\n",
    "plt.xlabel('Win Rate', fontsize=12)\n",
    "plt.ylabel('Number of Wins', fontsize=12)\n",
    "plt.title('Distribution of Win Rate against Number of Wins', fontsize=15)\n",
    "\n",
    "# Annotate the top 5 jockeys with the most wins\n",
    "for i in jockeyWins.sort_values(ascending=False)[:5].index:\n",
    "    plt.annotate(i, (jockeyWinRate[i], jockeyWins[i]))\n",
    "\n",
    "# Annotation for the top 5 jockeys with the highest win rate\n",
    "for i in jockeyWinRate.sort_values(ascending=False)[:5].index:\n",
    "    plt.annotate(i, (jockeyWinRate[i], jockeyWins[i]))\n",
    "    \n",
    "\n"
   ]
  },
  {
   "cell_type": "code",
   "execution_count": null,
   "metadata": {},
   "outputs": [],
   "source": [
    "# Find the frequency of each jockey\n",
    "jockeyFreq = df_train['jockey'].value_counts()\n",
    "\n",
    "# Plot histogram of jockey frequency\n",
    "plt.figure(figsize=(10, 5))\n",
    "sns.distplot(jockeyFreq, kde=False, bins=100)\n",
    "plt.xlabel('Jockey Frequency', fontsize=12)\n",
    "plt.ylabel('Frequency', fontsize=12)\n",
    "plt.title('Distribution of Jockey Frequency', fontsize=15)"
   ]
  },
  {
   "cell_type": "markdown",
   "metadata": {},
   "source": [
    "## Find the best trainer"
   ]
  },
  {
   "cell_type": "code",
   "execution_count": null,
   "metadata": {},
   "outputs": [],
   "source": [
    "# Find out how many trainers are there\n",
    "print('Number of trainers: ', len(df_train['trainer'].unique()))"
   ]
  },
  {
   "cell_type": "code",
   "execution_count": null,
   "metadata": {},
   "outputs": [],
   "source": [
    "# Find the number of wins per trainer\n",
    "trainerWins = df_train.groupby('trainer')['finishing_position'].apply(lambda x: (x==1).sum())\n",
    "\n",
    "# Find the win rate per trainer\n",
    "trainerWinRate = df_train.groupby('trainer')['HorseWin'].mean()"
   ]
  },
  {
   "cell_type": "code",
   "execution_count": null,
   "metadata": {},
   "outputs": [],
   "source": [
    "# Plot win rate against number of wins\n",
    "plt.figure(figsize=(10, 5))\n",
    "sns.scatterplot(x=trainerWinRate, y=trainerWins)\n",
    "plt.xlabel('Win Rate', fontsize=12)\n",
    "plt.ylabel('Number of Wins', fontsize=12)\n",
    "plt.title('Distribution of Win Rate against Number of Wins', fontsize=15)\n",
    "\n",
    "# Annotate the top 5 trainers with the most wins\n",
    "for i in trainerWins.sort_values(ascending=False)[:5].index:\n",
    "    plt.annotate(i, (trainerWinRate[i], trainerWins[i]))"
   ]
  },
  {
   "cell_type": "code",
   "execution_count": null,
   "metadata": {},
   "outputs": [],
   "source": [
    "# Find the frequency of each trainer\n",
    "trainerFreq = df_train['trainer'].value_counts()\n",
    "\n",
    "# Plot the distribution of trainer frequency\n",
    "plt.figure(figsize=(10, 5))\n",
    "sns.distplot(trainerFreq, kde=False, bins=100)\n",
    "plt.xlabel('Trainer Frequency', fontsize=12)\n",
    "plt.ylabel('Count', fontsize=12)\n",
    "plt.title('Distribution of Trainer Frequency', fontsize=15);"
   ]
  },
  {
   "cell_type": "code",
   "execution_count": null,
   "metadata": {},
   "outputs": [],
   "source": [
    "# Trainer data also heavy skewed\n",
    "trainerFreq"
   ]
  },
  {
   "cell_type": "markdown",
   "metadata": {},
   "source": [
    "## Find the best horse"
   ]
  },
  {
   "cell_type": "code",
   "execution_count": null,
   "metadata": {},
   "outputs": [],
   "source": [
    "# Find out how many horses are there\n",
    "print('Number of horses: ', len(df_train['horse_id'].unique()))"
   ]
  },
  {
   "cell_type": "code",
   "execution_count": null,
   "metadata": {},
   "outputs": [],
   "source": [
    "# Find the number of wins per horse\n",
    "horseWins = df_train.groupby('horse_name')['finishing_position'].apply(lambda x: (x==1).sum())\n",
    "\n",
    "# Find the win rate per horse\n",
    "horseWinRate = df_train.groupby('horse_name')['HorseWin'].mean()\n",
    "\n",
    "# Plot win rate against number of wins\n",
    "plt.figure(figsize=(20, 10))\n",
    "sns.scatterplot(x=horseWinRate, y=horseWins)\n",
    "plt.xlabel('Win Rate', fontsize=12)\n",
    "plt.ylabel('Number of Wins', fontsize=12)\n",
    "plt.title('Distribution of Win Rate against Number of Wins', fontsize=15)\n",
    "\n",
    "# Annotate the top 5 horses with the most wins\n",
    "for i in horseWins.sort_values(ascending=False)[:5].index:\n",
    "     plt.annotate(i, (horseWinRate[i], horseWins[i]))"
   ]
  },
  {
   "cell_type": "code",
   "execution_count": null,
   "metadata": {},
   "outputs": [],
   "source": [
    "horseWins.sort_values(ascending=False)[:5]"
   ]
  },
  {
   "cell_type": "code",
   "execution_count": null,
   "metadata": {},
   "outputs": [],
   "source": [
    "horseWinRate.sort_values(ascending=False)[:20]"
   ]
  },
  {
   "cell_type": "code",
   "execution_count": null,
   "metadata": {},
   "outputs": [],
   "source": [
    "# Find the frequency of each horse\n",
    "horseFreq = df_train['horse_id'].value_counts()\n",
    "\n",
    "# Plot the distribution of horse frequency\n",
    "plt.figure(figsize=(10, 5))\n",
    "sns.distplot(horseFreq, kde=False, bins=100)\n",
    "plt.xlabel('Races a horse run', fontsize=12)\n",
    "plt.ylabel('Frquency', fontsize=12)\n",
    "plt.title('Distribution of Number of Races a Horse runs', fontsize=15);\n"
   ]
  },
  {
   "cell_type": "code",
   "execution_count": null,
   "metadata": {},
   "outputs": [],
   "source": [
    "# Plot the recent average rank of each horse against finishing position\n",
    "plt.figure(figsize=(10, 5))\n",
    "sns.scatterplot(x=df_train['recent_ave_rank'], y=df_train['finishing_position'])\n",
    "plt.xlabel('Recent Average Rank', fontsize=12)\n",
    "plt.ylabel('Finishing Position', fontsize=12)\n",
    "plt.title('Distribution of Recent Average Rank of Horse against Finishing Position', fontsize=15)\n"
   ]
  },
  {
   "cell_type": "code",
   "execution_count": null,
   "metadata": {},
   "outputs": [],
   "source": []
  }
 ],
 "metadata": {
  "kernelspec": {
   "display_name": "env",
   "language": "python",
   "name": "python3"
  },
  "language_info": {
   "codemirror_mode": {
    "name": "ipython",
    "version": 3
   },
   "file_extension": ".py",
   "mimetype": "text/x-python",
   "name": "python",
   "nbconvert_exporter": "python",
   "pygments_lexer": "ipython3",
   "version": "3.9.13"
  },
  "vscode": {
   "interpreter": {
    "hash": "d0544f3d8f88c277ece8a7bca9c4cae84dfc7832020b3e571294385a87fe1e90"
   }
  }
 },
 "nbformat": 4,
 "nbformat_minor": 2
}
