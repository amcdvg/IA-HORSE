{
 "cells": [
  {
   "cell_type": "markdown",
   "metadata": {},
   "source": [
    "# Part 1: Horse Racing Prediction"
   ]
  },
  {
   "cell_type": "markdown",
   "metadata": {},
   "source": [
    " ## Data Preprocessing"
   ]
  },
  {
   "cell_type": "code",
   "execution_count": null,
   "metadata": {},
   "outputs": [],
   "source": [
    "!conda install -c rapidsai -c nvidia -c numba -c conda-forge \\\n",
    "   cudf=21.08 python=3.9 cudatoolkit=11.0"
   ]
  },
  {
   "cell_type": "code",
   "execution_count": null,
   "metadata": {},
   "outputs": [],
   "source": [
    "import cudf \n",
    "import pandas as pd\n",
    "import numpy as np\n",
    "\n",
    "# rcParams\n",
    "# change image to white background\n",
    "import matplotlib as mpl\n",
    "mpl.rcParams['figure.facecolor'] = 'white'\n",
    "\n",
    "%load_ext autotime\n",
    "\n",
    "import warnings\n",
    "warnings.filterwarnings(\"ignore\")"
   ]
  },
  {
   "cell_type": "code",
   "execution_count": null,
   "metadata": {},
   "outputs": [],
   "source": [
    "# Read the data\n",
    "rrh = pd.read_csv('./data/race-result-horse.csv')\n",
    "rrr = pd.read_csv('./data/race-result-race.csv')\n",
    "print(rrh.shape)\n",
    "print(rrr.shape)"
   ]
  },
  {
   "cell_type": "code",
   "execution_count": null,
   "metadata": {},
   "outputs": [],
   "source": [
    "# View the data\n",
    "rrh.head()"
   ]
  },
  {
   "cell_type": "code",
   "execution_count": null,
   "metadata": {},
   "outputs": [],
   "source": [
    "# View the data\n",
    "rrr.head()"
   ]
  },
  {
   "cell_type": "code",
   "execution_count": null,
   "metadata": {},
   "outputs": [],
   "source": [
    "# Explore the data\n",
    "rrh.info()"
   ]
  },
  {
   "cell_type": "code",
   "execution_count": null,
   "metadata": {},
   "outputs": [],
   "source": [
    "# Explore the data\n",
    "rrr.info()"
   ]
  },
  {
   "cell_type": "markdown",
   "metadata": {},
   "source": [
    "## Data Cleaning"
   ]
  },
  {
   "cell_type": "code",
   "execution_count": null,
   "metadata": {},
   "outputs": [],
   "source": [
    "# Look at the unique values in the column 'finishing_position'\n",
    "rrh['finishing_position'].unique()"
   ]
  },
  {
   "cell_type": "code",
   "execution_count": null,
   "metadata": {},
   "outputs": [],
   "source": [
    "# Drop rows in column where value is not a number\n",
    "df_horse = rrh[rrh['finishing_position'].isin([str(i) for i in range(1, 15)])].reset_index(drop=True)"
   ]
  },
  {
   "cell_type": "code",
   "execution_count": null,
   "metadata": {},
   "outputs": [],
   "source": [
    "# View the data\n",
    "df_horse.head()"
   ]
  },
  {
   "cell_type": "code",
   "execution_count": null,
   "metadata": {},
   "outputs": [],
   "source": [
    "# Check the data types after removing special characters\n",
    "df_horse.finishing_position.unique()"
   ]
  },
  {
   "cell_type": "code",
   "execution_count": null,
   "metadata": {},
   "outputs": [],
   "source": [
    "df_horse"
   ]
  },
  {
   "cell_type": "code",
   "execution_count": null,
   "metadata": {},
   "outputs": [],
   "source": [
    "# #  drop the rows where the “finish_position” is not a number (e.g. WV-A, WV). There may be accidents.\n",
    "# rrh = rrh[rrh.finishing_position.isin(['1','2','3','4','5','6','7','8','9','10','11','12','13','14'])].reset_index()\n",
    "# rrh.head()"
   ]
  },
  {
   "cell_type": "code",
   "execution_count": null,
   "metadata": {
    "scrolled": false
   },
   "outputs": [],
   "source": [
    "horse_id = df_horse['horse_id'].unique()\n",
    "numHorse = len(horse_id)\n",
    "horse_index = range(numHorse)\n",
    "\n",
    "jockey = df_horse['jockey'].unique()\n",
    "numJockey = len(jockey)\n",
    "jockey_index = range(numJockey)\n",
    "\n",
    "trainer = df_horse['trainer'].unique()\n",
    "numTrainer = len(trainer)\n",
    "trainer_index = range(numTrainer)\n",
    "\n",
    "print(' Number of Horses:', numHorse, '\\n', 'Number of Jockeys:', numJockey,'\\n', 'Number of Trainers:', numTrainer)"
   ]
  },
  {
   "cell_type": "code",
   "execution_count": null,
   "metadata": {
    "scrolled": true
   },
   "outputs": [],
   "source": [
    "# Takes a while to run\n",
    "\n",
    "# Add a column named recent_6_runs to the dataframe, which records the recent ranks of the horse in each entry. \n",
    "# The ranks are separated by “/”, and a record is like 1/2/6/3/4/7.\n",
    "\n",
    "# Add a column named recent_ave_rank for each entry to the dataframe, \n",
    "# which records the average rank of the recent 6 runs of a horse\n",
    "\n",
    "df_horse['recent_6_runs'] = '0'\n",
    "df_horse['recent_ave_rank'] = '7'\n",
    "\n",
    "for i in range(len(df_horse['finishing_position'])):\n",
    "    \n",
    "    # temp will just give a list of all the finishing positions of that particular horse\n",
    "    temp = df_horse[ : (i + 1)][df_horse.horse_id == df_horse.horse_id[i]][['finishing_position']]\n",
    "\n",
    "    # we convert temp into a list, in reverse order, with the last race in front\n",
    "    temp = temp['finishing_position'].values.tolist()[::-1]\n",
    "  \n",
    "    # we then take the first 6 elements of the list, and join them with a '/'\n",
    "    df_horse['recent_6_runs'][i] = '/'.join(temp[:6])\n",
    "    \n",
    "    # if list is not empty, then we convert string to float and take the average to get the recent_ave_rank\n",
    "    if len(temp) != 0:\n",
    "        temp_int = map(int,temp)\n",
    "        temp_ave = np.mean(list(temp_int))\n",
    "        df_horse['recent_ave_rank'][i] = temp_ave"
   ]
  },
  {
   "cell_type": "code",
   "execution_count": null,
   "metadata": {},
   "outputs": [],
   "source": [
    "# Check the data\n",
    "df_horse.tail()"
   ]
  },
  {
   "cell_type": "code",
   "execution_count": null,
   "metadata": {
    "scrolled": false
   },
   "outputs": [],
   "source": [
    "# Add column of Distance\n",
    "\n",
    "# The distance could be 1000, 1200, 1400, 1600, 1800, 2000, 2400, etc. \n",
    "# Some horses are good at short-distance races, while some are good at long-distance races.\n",
    "\n",
    "df_horse['race_distance'] = '0'\n",
    "\n",
    "# Iterate through the dataframe\n",
    "for i in range(len(rrr['race_id'])):\n",
    "    distance = rrr['race_distance'][i]\n",
    "    df_horse['race_distance'][df_horse.race_id == rrr.race_id[i]] = distance"
   ]
  },
  {
   "cell_type": "code",
   "execution_count": null,
   "metadata": {},
   "outputs": [],
   "source": [
    "# Add HorseWin, HorseRankTop3, HorseRankTop50Percent for use in Part3\n",
    "\n",
    "# Sets a boolean mask (either 1 or 0) for each new column\n",
    "df_horse['HorseWin'] = (df_horse.finishing_position == '1') + 0\n",
    "df_horse['HorseRankTop3'] = (df_horse.finishing_position == '1') + (df_horse.finishing_position == '2') + (df_horse.finishing_position == '3') + 0\n",
    "\n",
    "# Create a list of all the top1_indexes where the horse finished in the top\n",
    "top1_index = df_horse.index[df_horse['finishing_position'] == '1'].tolist()\n",
    "\n",
    "# Create another column where the horse finished in the top 50%\n",
    "df_horse['HorseRankTop50Percent'] = '0'\n",
    "for i in range(len(top1_index)-1):\n",
    "    df_horse['HorseRankTop50Percent'][top1_index[i]:(top1_index[i] + int(round(0.5 * (top1_index[i + 1] - top1_index[i]))))] = '1'\n",
    "\n",
    "# Created specifically for the last index because we cannot loop    \n",
    "df_horse['HorseRankTop50Percent'][top1_index[len(top1_index) - 1]:(top1_index[len(top1_index) - 1] + 6)] = '1'\n"
   ]
  },
  {
   "cell_type": "code",
   "execution_count": null,
   "metadata": {},
   "outputs": [],
   "source": [
    "df_horse.head()"
   ]
  },
  {
   "cell_type": "code",
   "execution_count": null,
   "metadata": {},
   "outputs": [],
   "source": [
    "# Save the data\n",
    "df_horse.to_csv('./data/df_horse.csv', index=False)"
   ]
  },
  {
   "cell_type": "markdown",
   "metadata": {},
   "source": [
    "## Data Preparation"
   ]
  },
  {
   "cell_type": "code",
   "execution_count": null,
   "metadata": {},
   "outputs": [],
   "source": [
    "# Divide data into train set, test set and unseen backtest set.\n",
    "# Training set contains all the races with race_id no more than “2016-327” (first 80%), \n",
    "# Test set contains the rest of races (last 20%)\n",
    "\n",
    "train_last_index = max(df_horse.index[df_horse['race_id'] == '2016-137'].tolist())\n",
    "test_last_index = max(df_horse.index[df_horse['race_id'] == '2016-563'].tolist())\n",
    "\n",
    "print(train_last_index)\n",
    "print(test_last_index)\n",
    "\n",
    "\n",
    "df_train = df_horse[:(train_last_index + 1)]\n",
    "df_test = df_horse[(train_last_index + 1):(test_last_index + 1)]\n",
    "df_unseen = df_horse[(test_last_index + 1):]\n"
   ]
  },
  {
   "cell_type": "code",
   "execution_count": null,
   "metadata": {},
   "outputs": [],
   "source": [
    "# Calculate jockey_ave_rank, trainer_ave_rank ONLY for training and test data\n",
    "# jockey_ave_rank: records the average rank of the jockey\n",
    "# trainer_ave_rank: records the average rank of the trainer\n",
    "\n",
    "def cal_ave_rank(df):\n",
    "    df['jockey_ave_rank'] = '7'\n",
    "\n",
    "    for i in range(len(jockey)):\n",
    "        temp = df[df.jockey == jockey[i]][['finishing_position']]\n",
    "        temp = temp['finishing_position'].values.tolist()\n",
    "        if len(temp) != 0:\n",
    "            temp_int = map(int, temp)\n",
    "            temp_ave = np.mean(list(temp_int))\n",
    "            df['jockey_ave_rank'][df.jockey == jockey[i]] = temp_ave\n",
    "\n",
    "\n",
    "    df['trainer_ave_rank'] = '7'\n",
    "\n",
    "    for i in range(len(trainer)):\n",
    "        temp = df[df.trainer == trainer[i]][['finishing_position']]\n",
    "        temp = temp['finishing_position'].values.tolist()\n",
    "        if len(temp) != 0:\n",
    "            temp_int = map(int,temp)\n",
    "            temp_ave = np.mean(list(temp_int))\n",
    "            df['trainer_ave_rank'][df.trainer == trainer[i]] = temp_ave\n",
    "\n",
    "    return df\n"
   ]
  },
  {
   "cell_type": "code",
   "execution_count": null,
   "metadata": {},
   "outputs": [],
   "source": [
    "# Save the train set\n",
    "df_train = cal_ave_rank(df_train)\n",
    "df_train.to_csv('./data/df_train.csv', index=False)\n",
    "\n",
    "# Save the test set\n",
    "df_test = cal_ave_rank(df_test)\n",
    "df_test.to_csv('./data/df_test.csv', index=False)"
   ]
  },
  {
   "cell_type": "code",
   "execution_count": null,
   "metadata": {},
   "outputs": [],
   "source": [
    "# Port over the jockey_ave_rank and trainer_ave_rank to the unseen set\n",
    "\n",
    "df_unseen['jockey_ave_rank'] = '7'\n",
    "df_unseen_jockey = df_unseen['jockey'].unique()\n",
    "for i in range(len(df_unseen_jockey)):\n",
    "    if df_unseen_jockey[i] in df_train['jockey'].unique():\n",
    "        df_unseen['jockey_ave_rank'][df_unseen.jockey == df_unseen_jockey[i]]\\\n",
    "            = df_train[df_train.jockey == df_unseen_jockey[i]]['jockey_ave_rank'].tolist()[0]\n",
    "\n",
    "df_unseen['trainer_ave_rank'] = '7'\n",
    "df_unseen_trainer=df_unseen['trainer'].unique()\n",
    "for i in range(len(df_unseen_trainer)):\n",
    "    if df_unseen_trainer[i] in df_train['trainer'].unique():\n",
    "        df_unseen['trainer_ave_rank'][df_unseen.trainer == df_unseen_trainer[i]]\\\n",
    "            = df_train[df_train.trainer == df_unseen_trainer[i]]['trainer_ave_rank'].tolist()[0]"
   ]
  },
  {
   "cell_type": "code",
   "execution_count": null,
   "metadata": {},
   "outputs": [],
   "source": [
    "df_unseen.to_csv('./data/df_unseen.csv', index=False)"
   ]
  },
  {
   "cell_type": "markdown",
   "metadata": {},
   "source": [
    " "
   ]
  }
 ],
 "metadata": {
  "kernelspec": {
   "display_name": "Python 3 (ipykernel)",
   "language": "python",
   "name": "python3"
  },
  "language_info": {
   "codemirror_mode": {
    "name": "ipython",
    "version": 3
   },
   "file_extension": ".py",
   "mimetype": "text/x-python",
   "name": "python",
   "nbconvert_exporter": "python",
   "pygments_lexer": "ipython3",
   "version": "3.8.10"
  },
  "vscode": {
   "interpreter": {
    "hash": "d0544f3d8f88c277ece8a7bca9c4cae84dfc7832020b3e571294385a87fe1e90"
   }
  }
 },
 "nbformat": 4,
 "nbformat_minor": 2
}
