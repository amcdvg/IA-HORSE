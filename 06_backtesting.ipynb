{
 "cells": [
  {
   "cell_type": "markdown",
   "metadata": {},
   "source": [
    "Betting strategy: To place $1 bet for each prediction in each race. If prediction is correct, we will collect $1 x odds. Otherwise, we lose $1\n",
    "\n",
    "The final result is positive if we win some money and negative if we lose."
   ]
  },
  {
   "cell_type": "code",
   "execution_count": null,
   "metadata": {},
   "outputs": [],
   "source": [
    "import pandas as pd\n",
    "import numpy as np\n",
    "import matplotlib.pyplot as plt\n",
    "import seaborn as sns\n",
    "import pickle\n",
    "\n",
    "# rcParams background color\n",
    "plt.rcParams['figure.facecolor'] = 'white'\n",
    "\n",
    "%matplotlib inline"
   ]
  },
  {
   "cell_type": "markdown",
   "metadata": {},
   "source": [
    "# Part 6: Horse Race Prediction\n",
    "## Backtesting Strategy Using our ML Models"
   ]
  },
  {
   "cell_type": "code",
   "execution_count": null,
   "metadata": {},
   "outputs": [],
   "source": [
    "# Read in the unseen file\n",
    "df_unseen = pd.read_csv('D:\\\\documentos\\\\IA Caballos\\\\flat_data\\\\df_unseen.csv')\n",
    "df_unseen.head()"
   ]
  },
  {
   "cell_type": "code",
   "execution_count": null,
   "metadata": {},
   "outputs": [],
   "source": [
    "df_unseen.fillna(0, inplace=True)\n",
    "df_unseen"
   ]
  },
  {
   "cell_type": "code",
   "execution_count": null,
   "metadata": {},
   "outputs": [],
   "source": [
    "df_unseen.columns"
   ]
  },
  {
   "cell_type": "code",
   "execution_count": null,
   "metadata": {},
   "outputs": [],
   "source": [
    "# Read in our 4 classification predictions\n",
    "lr_pred = pd.read_csv('D:\\\\documentos\\\\IA Caballos\\\\flat_data\\\\lr_pred.csv')\n",
    "gnb_pred = pd.read_csv('D:\\\\documentos\\\\IA Caballos\\\\flat_data\\\\gnb_pred.csv')\n",
    "rfc_pred = pd.read_csv('D:\\\\documentos\\\\IA Caballos\\\\flat_data\\\\rfc_pred.csv')\n",
    "smote_rfc_pred = pd.read_csv('D:\\\\documentos\\\\IA Caballos\\\\flat_data\\\\\\smote_rfc_pred.csv')"
   ]
  },
  {
   "cell_type": "code",
   "execution_count": null,
   "metadata": {},
   "outputs": [],
   "source": [
    "# Read in our 4 regression predictions\n",
    "ridge_pred = pd.read_csv('D:\\\\documentos\\\\IA Caballos\\\\flat_data\\\\ridge_pred.csv')\n",
    "knn_pred = pd.read_csv('D:\\\\documentos\\\\IA Caballos\\\\flat_data\\\\knn_pred.csv')\n",
    "rf_pred = pd.read_csv('D:\\\\documentos\\\\IA Caballos\\\\flat_data\\\\rf_pred.csv')\n",
    "lgbm_pred = pd.read_csv('D:\\\\documentos\\\\IA Caballos\\\\flat_data\\\\lgbm_pred.csv')"
   ]
  },
  {
   "cell_type": "markdown",
   "metadata": {},
   "source": [
    "### Baseline Case: Bet on horse with the lowest odds"
   ]
  },
  {
   "cell_type": "code",
   "execution_count": null,
   "metadata": {},
   "outputs": [],
   "source": [
    "df_unseen['win_odds'] =df_unseen['win_odds'].str.rstrip('%').astype('float') / 100.0"
   ]
  },
  {
   "cell_type": "code",
   "execution_count": null,
   "metadata": {},
   "outputs": [],
   "source": [
    "df_unseen['win_odds'].sort_values(ascending=True).index[0]"
   ]
  },
  {
   "cell_type": "code",
   "execution_count": null,
   "metadata": {},
   "outputs": [],
   "source": [
    "# Check on baseline case where we just bet on the horse with the lowest odds\n",
    "# Test on the df_unseen dataframes\n",
    "import re\n",
    "from numba import jit, cuda\n",
    "\n",
    "@jit(target_backend='cuda')\n",
    "def buy_lowest_odds(df, best_odds, graph=True):\n",
    "\n",
    "    money=0\n",
    "    bets_made=[]\n",
    "    cumulative_money=[]\n",
    "\n",
    "    for race_id in df['race_id'].unique():\n",
    "        # Make a temporary dataframe\n",
    "        df_temp = df[df['race_id'] == race_id]\n",
    "\n",
    "        # Find the index with the lowest odds\n",
    "        idx = df_temp['win_odds'].sort_values(ascending=True)[:best_odds].index\n",
    "\n",
    "        bet_counter=0\n",
    "\n",
    "        for i in idx:\n",
    "            # If the horse wins, add the win_odds to the money\n",
    "            if df_temp['finishing_position'][i] == 1:\n",
    "                money += (df_temp['win_odds'][i] - 1)\n",
    "                bet_counter += 1\n",
    "                cumulative_money.append(money)\n",
    "            else:\n",
    "                money += -1\n",
    "                bet_counter += 1\n",
    "                cumulative_money.append(money)\n",
    "\n",
    "        bets_made.append(bet_counter)    \n",
    "\n",
    "    if graph==True: \n",
    "        # Plot the cumulative money\n",
    "        plt.figure(figsize=(10, 6))\n",
    "        plt.plot(cumulative_money)\n",
    "        plt.axhline(y=0, color='r', linestyle='-')\n",
    "        plt.title('Cumulative Money for Every $1 Bet')\n",
    "        plt.xlabel('Bets Made')\n",
    "        plt.ylabel('Cumulative Money')\n",
    "        plt.show()\n",
    "\n",
    "        # Plot the bets made\n",
    "        plt.figure(figsize=(10, 6))\n",
    "        plt.plot(bets_made)\n",
    "        plt.title('Total Bets Made')\n",
    "        plt.show()\n",
    "        \n",
    "    # Print the final money and bets made\n",
    "    print('Final Money made from Baseline: ', round(money,3))\n",
    "    print('Total Bets Made: ', round(sum(bets_made),3))"
   ]
  },
  {
   "cell_type": "code",
   "execution_count": null,
   "metadata": {},
   "outputs": [],
   "source": [
    "buy_lowest_odds(df_unseen, 1, True)"
   ]
  },
  {
   "cell_type": "code",
   "execution_count": null,
   "metadata": {},
   "outputs": [],
   "source": [
    "buy_lowest_odds(df_unseen, 3, False)"
   ]
  },
  {
   "cell_type": "markdown",
   "metadata": {},
   "source": [
    "### Strategy 1: Buy Top Prediction\n",
    "- If top horse prediction is 1, we make a bet, else we don't."
   ]
  },
  {
   "cell_type": "code",
   "execution_count": null,
   "metadata": {},
   "outputs": [],
   "source": [
    "# Define a function to backtest the betting strategyimport re\n",
    "from numba import jit, cuda\n",
    "import re\n",
    "@jit(target_backend='cuda')\n",
    "def simple_class_strategy(model_pred, graph=True):\n",
    "\n",
    "    df_unseen_results = df_unseen[['finishing_position', 'win_odds', 'race_id', \n",
    "                               'HorseWin', 'horse_id']]\n",
    "\n",
    "    # rename columns\n",
    "    df_unseen_results = df_unseen_results.rename(columns={'race_id': 'RaceID', \n",
    "                                                    'horse_id': 'HorseID', \n",
    "                                                    'HorseWin':'ActualWin'})\n",
    "    \n",
    "    # merge the prediction with the test data\n",
    "    df_backtest = pd.merge(model_pred, df_unseen_results, on=('RaceID', 'HorseID'), how='left')\n",
    "\n",
    "    money = 0\n",
    "    bets_made = []\n",
    "    cumulative_money = [0]\n",
    "\n",
    "    for race_id in df_backtest['RaceID'].unique():\n",
    "\n",
    "        # make a temporary dataframe one for that particular race\n",
    "        temp_df = df_backtest[df_backtest['RaceID']==race_id]\n",
    "\n",
    "        # find out the bets we made\n",
    "        bets = temp_df[temp_df['HorseWin']==1]\n",
    "\n",
    "        # deduct money for bets we made\n",
    "        deduction  = -len(bets)\n",
    "\n",
    "        # amount won from bets\n",
    "        # sum of multiplying the odds with the prediction\n",
    "        amount_won = sum(bets['win_odds']*bets['ActualWin'])\n",
    "        \n",
    "        # add the amount won to the money\n",
    "        money += (amount_won + deduction)\n",
    "\n",
    "        # append the money to the cumulative money list\n",
    "        cumulative_money.append(money)\n",
    "\n",
    "        # append the bets made to the bets made list\n",
    "        bets_made.append(len(bets))\n",
    "    \n",
    "    if graph==True:\n",
    "        # plot the cumulative money\n",
    "        plt.figure(figsize=(10, 6))\n",
    "        plt.plot(cumulative_money)\n",
    "        plt.axhline(y=0, color='r', linestyle='-')\n",
    "        plt.title('Cumulative Money for Every $1 Bet')\n",
    "        plt.xlabel('Bets Made')\n",
    "        plt.ylabel('Cumulative Money')\n",
    "        plt.show()\n",
    "\n",
    "        # plot the bets made\n",
    "        plt.figure(figsize=(10, 6))\n",
    "        plt.plot(bets_made)\n",
    "        plt.title('Bets Made')\n",
    "        plt.show()\n",
    "\n",
    "    # print the final money and bets made\n",
    "    print('Final Money: ', round(money, 3))\n",
    "    print('Total Bets Made: ', round(sum(bets_made),3), '\\n')\n",
    "\n",
    "    return money, bets_made"
   ]
  },
  {
   "cell_type": "markdown",
   "metadata": {},
   "source": [
    "### Strategy 2: Buy Fastest Timing\n",
    "- We bet on the horse with the fastest predicted timing."
   ]
  },
  {
   "cell_type": "code",
   "execution_count": null,
   "metadata": {},
   "outputs": [],
   "source": [
    "# define regression backtest functionimport refrom numba import jit, cuda\n",
    "import re\n",
    "@jit(target_backend='cuda')\n",
    "def simple_reg_strategy(model_pred, graph=True):\n",
    "        \n",
    "        df_unseen_results = df_unseen[['finishing_position', 'win_odds', 'race_id', 'HorseWin', 'horse_id']]\n",
    "\n",
    "        # rename columns\n",
    "        df_unseen_results = df_unseen_results.rename(columns={'race_id': 'RaceID', \n",
    "                                                        'horse_id': 'HorseID', \n",
    "                                                        'HorseWin':'ActualWin'})\n",
    "        \n",
    "        # merge the prediction with the test data\n",
    "        df_unseen_results['pred_time'] = model_pred['0']\n",
    "\n",
    "        money = 0\n",
    "        bets_made = []\n",
    "        cumulative_money = [0]\n",
    "\n",
    "        for race_id in df_unseen_results['RaceID'].unique():\n",
    "\n",
    "                # make a temporary dataframe one for that particular race\n",
    "                temp_df = df_unseen_results[df_unseen_results['RaceID']==race_id]\n",
    "\n",
    "                # bet only on the horse with the fastest time\n",
    "                # return dataframe where the time is the minimum\n",
    "                bets = temp_df[temp_df['pred_time']==temp_df['pred_time'].min()]\n",
    "\n",
    "                # deduct money for bets we made\n",
    "                deduction  = -len(bets)\n",
    "\n",
    "                # amount won from bets\n",
    "                # sum of multiplying the odds with the prediction\n",
    "                amount_won = sum(bets['win_odds']*bets['ActualWin'])\n",
    "                \n",
    "                # add the amount won to the money\n",
    "                money += (amount_won + deduction)\n",
    "\n",
    "                # append the money to the cumulative money list\n",
    "                cumulative_money.append(money)\n",
    "\n",
    "                # append the bets made to the bets made list\n",
    "                bets_made.append(len(bets))\n",
    "        \n",
    "        if graph==True:\n",
    "                # plot the cumulative money\n",
    "                plt.figure(figsize=(10, 6))\n",
    "                plt.plot(cumulative_money)\n",
    "                plt.axhline(y=0, color='r', linestyle='-')\n",
    "                plt.title('Cumulative Money for Every $1 Bet')\n",
    "                plt.xlabel('Bets Made')\n",
    "                plt.ylabel('Cumulative Money')\n",
    "                plt.show()\n",
    "\n",
    "                # plot the bets made\n",
    "                plt.figure(figsize=(10, 6))\n",
    "                plt.plot(bets_made)\n",
    "                plt.title('Bets Made')\n",
    "                plt.show()\n",
    "\n",
    "        # print the final money and bets made\n",
    "        print('Final Money: ', round(money, 3))\n",
    "        print('Total Bets Made: ', round(sum(bets_made),3), '\\n')\n",
    "\n",
    "        return money, bets_made\n",
    "                "
   ]
  },
  {
   "cell_type": "markdown",
   "metadata": {},
   "source": [
    "### Strategy 3: Buy Top 3 Predictions\n",
    "- We bet on the top 3 horses with the highest probability of winning"
   ]
  },
  {
   "cell_type": "code",
   "execution_count": null,
   "metadata": {},
   "outputs": [],
   "source": [
    "# Define a function to backtest the betting strategyimport re\n",
    "@jit(target_backend='cuda')\n",
    "def top3_strategy(model_pred, graph=True):\n",
    "\n",
    "    df_unseen_results = df_unseen[['finishing_position', 'win_odds', 'race_id', \n",
    "                               'HorseWin', 'horse_id']]\n",
    "\n",
    "    # rename columns\n",
    "    df_unseen_results = df_unseen_results.rename(columns={'race_id': 'RaceID', \n",
    "                                                    'horse_id': 'HorseID', \n",
    "                                                    'HorseWin':'ActualWin'})\n",
    "    \n",
    "    # merge the prediction with the test data\n",
    "    df_backtest = pd.merge(model_pred, df_unseen_results, on=('RaceID', 'HorseID'), how='left')\n",
    "\n",
    "    money = 0\n",
    "    bets_made = []\n",
    "    cumulative_money = [0]\n",
    "\n",
    "    for race_id in df_backtest['RaceID'].unique():\n",
    "\n",
    "        # make a temporary dataframe one for that particular race\n",
    "        temp_df = df_backtest[df_backtest['RaceID']==race_id]\n",
    "\n",
    "        # find out the bets we made\n",
    "        bets = temp_df[temp_df['HorseRankTop3']==1]\n",
    "\n",
    "        # deduct money for bets we made\n",
    "        deduction  = -len(bets)\n",
    "\n",
    "        # amount won from bets\n",
    "        # sum of multiplying the odds with the prediction\n",
    "        amount_won = sum(bets['win_odds']*bets['ActualWin'])\n",
    "        \n",
    "        # add the amount won to the money\n",
    "        money += (amount_won + deduction)\n",
    "\n",
    "        # append the money to the cumulative money list\n",
    "        cumulative_money.append(money)\n",
    "\n",
    "        # append the bets made to the bets made list\n",
    "        bets_made.append(len(bets))\n",
    "    \n",
    "    if graph==True:\n",
    "        # plot the cumulative money\n",
    "        plt.figure(figsize=(10, 6))\n",
    "        plt.plot(cumulative_money)\n",
    "        plt.axhline(y=0, color='r', linestyle='-')\n",
    "        plt.title('Cumulative Money for Every $1 Bet')\n",
    "        plt.xlabel('Bets Made')\n",
    "        plt.ylabel('Cumulative Money')\n",
    "        plt.show()\n",
    "\n",
    "        # plot the bets made\n",
    "        plt.figure(figsize=(10, 6))\n",
    "        plt.plot(bets_made)\n",
    "        plt.title('Bets Made')\n",
    "        plt.show()\n",
    "\n",
    "    # print the final money and bets made\n",
    "    print('Final Money: ', round(money, 3))\n",
    "    print('Total Bets Made: ', round(sum(bets_made),3), '\\n')\n",
    "\n",
    "    return money, bets_made"
   ]
  },
  {
   "cell_type": "markdown",
   "metadata": {},
   "source": [
    "### Strategy 4: Buy Only Fast and Good\n",
    "- We bet on the horse that is predicted to be in the top 1, top 3 and has the best timing."
   ]
  },
  {
   "cell_type": "code",
   "execution_count": null,
   "metadata": {},
   "outputs": [],
   "source": [
    "# Define a function to backtest the betting strategyimport re\n",
    "@jit(target_backend='cuda')\n",
    "def hybrid_strategy(class_pred, reg_pred, graph=True):\n",
    "\n",
    "    df_unseen_results = df_unseen[['finishing_position', 'win_odds', 'race_id', \n",
    "                               'HorseWin', 'horse_id']]\n",
    "\n",
    "    # rename columns\n",
    "    df_unseen_results = df_unseen_results.rename(columns={'race_id': 'RaceID', \n",
    "                                                    'horse_id': 'HorseID', \n",
    "                                                    'HorseWin':'ActualWin'})\n",
    "    \n",
    "    # merge the prediction with the test data\n",
    "    df_hybrid = pd.merge(class_pred, df_unseen_results, on=('RaceID', 'HorseID'), how='left')\n",
    "    df_hybrid['pred_time'] = reg_pred['0']\n",
    "\n",
    "    money = 0\n",
    "    bets_made = []\n",
    "    cumulative_money = [0]\n",
    "\n",
    "    for race_id in df_hybrid['RaceID'].unique():\n",
    "\n",
    "        # make a temporary dataframe one for that particular race\n",
    "        temp_df = df_hybrid[df_hybrid['RaceID']==race_id]\n",
    "\n",
    "        # find out the bets we made\n",
    "        top_filter = temp_df['HorseWin']==1\n",
    "        top3_filter = temp_df['HorseRankTop3']==1\n",
    "        time_filter = temp_df['pred_time']==temp_df['pred_time'].min()\n",
    "\n",
    "        bets = temp_df[(top_filter) & (top3_filter) & (time_filter)]\n",
    "\n",
    "        # deduct money for bets we made\n",
    "        deduction  = -len(bets)\n",
    "\n",
    "        # amount won from bets\n",
    "        # sum of multiplying the odds with the prediction\n",
    "        amount_won = sum(bets['win_odds']*bets['ActualWin'])\n",
    "        \n",
    "        # add the amount won to the money\n",
    "        money += (amount_won + deduction)\n",
    "\n",
    "        # append the money to the cumulative money list\n",
    "        cumulative_money.append(money)\n",
    "\n",
    "        # append the bets made to the bets made list\n",
    "        bets_made.append(len(bets))\n",
    "    \n",
    "    if graph==True:\n",
    "        # plot the cumulative money\n",
    "        plt.figure(figsize=(10, 6))\n",
    "        plt.plot(cumulative_money)\n",
    "        plt.axhline(y=0, color='r', linestyle='-')\n",
    "        plt.title('Cumulative Money for Every $1 Bet')\n",
    "        plt.xlabel('Bets Made')\n",
    "        plt.ylabel('Cumulative Money')\n",
    "        plt.show()\n",
    "\n",
    "        # plot the bets made\n",
    "        plt.figure(figsize=(10, 6))\n",
    "        plt.plot(bets_made)\n",
    "        plt.title('Bets Made')\n",
    "        plt.show()\n",
    "\n",
    "    # print the final money and bets made\n",
    "    print('Final Money: ', round(money, 3))\n",
    "    print('Total Bets Made: ', round(sum(bets_made),3), '\\n')\n",
    "\n",
    "    return money, bets_made"
   ]
  },
  {
   "cell_type": "markdown",
   "metadata": {},
   "source": [
    "### Run Strategy 1"
   ]
  },
  {
   "cell_type": "code",
   "execution_count": null,
   "metadata": {},
   "outputs": [],
   "source": [
    "class_pred_dict = {'Logistic Regression': lr_pred, \n",
    "                    'Gaussian Naive Bayes': gnb_pred,\n",
    "                    'Random Forest Classifier': rfc_pred,\n",
    "                    'SMOTE + RF': smote_rfc_pred}\n",
    "\n",
    "reg_pred_dict = {'Ridge Regression': ridge_pred,\n",
    "                'KNN Regression': knn_pred,\n",
    "                'Random Forest Regressor': rf_pred,\n",
    "                'LGBM': lgbm_pred}"
   ]
  },
  {
   "cell_type": "code",
   "execution_count": null,
   "metadata": {},
   "outputs": [],
   "source": [
    "# Create a dataframe to store the results\n",
    "strat1_results = pd.DataFrame(columns=['Model', 'Money', 'Bets Made'])\n",
    "\n",
    "for model_name, class_model in class_pred_dict.items():\n",
    "\n",
    "        # Print the model name\n",
    "        print(model_name)\n",
    "\n",
    "        # change False to True if you want to view the graph\n",
    "        money, bets = simple_class_strategy(class_model, graph=True)\n",
    "\n",
    "        # Append the results to the dataframe\n",
    "        strat1_results.loc[len(strat1_results)] = [model_name, money, sum(bets)]"
   ]
  },
  {
   "cell_type": "code",
   "execution_count": null,
   "metadata": {},
   "outputs": [],
   "source": [
    "# Create a dataframe to store the results\n",
    "strat2_results = pd.DataFrame(columns=['Model', 'Money', 'Bets Made'])\n",
    "\n",
    "for model_name, reg_model in reg_pred_dict.items():\n",
    "\n",
    "        # Print the model name\n",
    "        print(model_name)\n",
    "\n",
    "        # change False to True if you want to view the graph\n",
    "        money, bets = simple_reg_strategy(reg_model, graph = True)\n",
    "\n",
    "        # Append the results to the dataframe\n",
    "        strat2_results.loc[len(strat2_results)] = [model_name, money, sum(bets)]"
   ]
  },
  {
   "cell_type": "code",
   "execution_count": null,
   "metadata": {},
   "outputs": [],
   "source": [
    "# Create a dataframe to store the results\n",
    "strat3_results = pd.DataFrame(columns=['Model', 'Money', 'Bets Made'])\n",
    "\n",
    "for model_name, class_model in class_pred_dict.items():\n",
    "\n",
    "        # change False to True if you want to view the graph\n",
    "        money, bets = top3_strategy(class_model, graph = False)\n",
    "\n",
    "        # Append the results to the dataframe\n",
    "        strat3_results.loc[len(strat3_results)] = [model_name, money, sum(bets)]"
   ]
  },
  {
   "cell_type": "code",
   "execution_count": null,
   "metadata": {},
   "outputs": [],
   "source": [
    "# Create a dataframe to store the results\n",
    "strat4_results = pd.DataFrame(columns=['Model', 'Money', 'Bets Made'])\n",
    "\n",
    "for model_name1, model1 in class_pred_dict.items():\n",
    "    for model_name2, model2 in reg_pred_dict.items():\n",
    "        combo_model = model_name1, model_name2\n",
    "\n",
    "        # Print the combo model name\n",
    "        print(combo_model)\n",
    "\n",
    "        # change False to True if you want to view the graph\n",
    "        money, bets = hybrid_strategy(model1, model2, graph = False)\n",
    "\n",
    "        # Append the results to the dataframe\n",
    "        strat4_results.loc[len(strat4_results)] = [combo_model, money, sum(bets)]"
   ]
  },
  {
   "cell_type": "markdown",
   "metadata": {},
   "source": [
    "### View the results"
   ]
  },
  {
   "cell_type": "code",
   "execution_count": null,
   "metadata": {},
   "outputs": [],
   "source": [
    "# Print Strategy 1 Results\n",
    "strat1_results.sort_values(by='Money', ascending=False)"
   ]
  },
  {
   "cell_type": "code",
   "execution_count": null,
   "metadata": {},
   "outputs": [],
   "source": [
    "# Print strategy 2 results\n",
    "strat2_results.sort_values(by='Money', ascending=False)\n"
   ]
  },
  {
   "cell_type": "code",
   "execution_count": null,
   "metadata": {},
   "outputs": [],
   "source": [
    "# Print strategy 3 results\n",
    "strat3_results.sort_values(by='Money', ascending=False)"
   ]
  },
  {
   "cell_type": "code",
   "execution_count": null,
   "metadata": {},
   "outputs": [],
   "source": [
    "# Print strategy 4 results\n",
    "strat4_results.sort_values(by='Money', ascending=False)"
   ]
  },
  {
   "cell_type": "markdown",
   "metadata": {},
   "source": [
    "Happy to say that all the top models for the 4 different strategies seem to perform well during the testing. This was quite surprising given that the base case of choosing the horse with the best odds gave quite a negative result."
   ]
  }
 ],
 "metadata": {
  "kernelspec": {
   "display_name": "env",
   "language": "python",
   "name": "python3"
  },
  "language_info": {
   "codemirror_mode": {
    "name": "ipython",
    "version": 3
   },
   "file_extension": ".py",
   "mimetype": "text/x-python",
   "name": "python",
   "nbconvert_exporter": "python",
   "pygments_lexer": "ipython3",
   "version": "3.9.13"
  },
  "vscode": {
   "interpreter": {
    "hash": "d0544f3d8f88c277ece8a7bca9c4cae84dfc7832020b3e571294385a87fe1e90"
   }
  }
 },
 "nbformat": 4,
 "nbformat_minor": 2
}
