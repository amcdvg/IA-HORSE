{
 "cells": [
  {
   "cell_type": "markdown",
   "metadata": {},
   "source": [
    "# Part 1: Horse Racing Prediction"
   ]
  },
  {
   "cell_type": "markdown",
   "metadata": {},
   "source": [
    " ## Data Preprocessing"
   ]
  },
  {
   "cell_type": "code",
   "execution_count": null,
   "metadata": {},
   "outputs": [],
   "source": [
    "!pip install ipython-autotime"
   ]
  },
  {
   "cell_type": "code",
   "execution_count": null,
   "metadata": {},
   "outputs": [],
   "source": [
    "from numba import jit, cuda\n",
    "import pandas as pd\n",
    "import numpy as np\n",
    "\n",
    "# rcParams\n",
    "# change image to white background\n",
    "import matplotlib as mpl\n",
    "mpl.rcParams['figure.facecolor'] = 'white'\n",
    "\n",
    "%load_ext autotime\n",
    "\n",
    "import warnings\n",
    "warnings.filterwarnings(\"ignore\")"
   ]
  },
  {
   "cell_type": "code",
   "execution_count": null,
   "metadata": {},
   "outputs": [],
   "source": [
    "# Read the data\n",
    "rrh = pd.read_csv('D:\\\\documentos\\\\IA Caballos\\\\hurdle_data\\\\Hurdle_race_course.csv')\n",
    "rrr = pd.read_csv('D:\\\\documentos\\\\IA Caballos\\\\hurdle_data\\\\Hurdle_race.csv')\n",
    "#rrr1 = pd.read_csv('C:\\\\Users\\ROOM\\Documents\\\\IA Caballos\\\\data\\\\records.csv')\n",
    "print(rrh.shape)\n",
    "print(rrr.shape)"
   ]
  },
  {
   "cell_type": "code",
   "execution_count": null,
   "metadata": {},
   "outputs": [],
   "source": [
    "#rrr1.head(2)\n",
    "rrh[\"jockey_hurdle_rate\"] = rrh[\"jockey_hurdle_rate\"].str.rstrip('%').astype('float')\n",
    "#rrh[\"jockey_flat_turf_rate\"] = rrh[\"jockey_flat_turf_rate\"].str.rstrip('%').astype('float')\n",
    "rrh[\"trainers_hurdle_rate\"] = rrh[\"trainers_hurdle_rate\"].str.rstrip('%').astype('float')\n",
    "#rrh[\"trainers_flat_turf_rate\"] = rrh[\"trainers_flat_turf_rate\"].str.rstrip('%').astype('float')\n",
    "\n"
   ]
  },
  {
   "cell_type": "code",
   "execution_count": null,
   "metadata": {},
   "outputs": [],
   "source": [
    "rrh.fillna(0, inplace=True)"
   ]
  },
  {
   "cell_type": "code",
   "execution_count": null,
   "metadata": {},
   "outputs": [],
   "source": [
    "rrh.horse_rate = rrh.horse_rate.replace({\"-\": 0})"
   ]
  },
  {
   "cell_type": "code",
   "execution_count": null,
   "metadata": {},
   "outputs": [],
   "source": [
    "import re\n",
    "from numba import jit, cuda\n",
    "\n",
    "@jit(target_backend='cuda')\n",
    "def convert_to_km(distance):\n",
    "    '''\n",
    "    distance can be a string with km or m as units\n",
    "    e.g. 300km, 1.1km, 200m, 4.5m\n",
    "    '''\n",
    "    \n",
    "    # split the string into value and unit ['300', 'km']\n",
    "    #split_dist = re.match('([\\d\\.]+)?([a-zA-Z]+)', distance)\n",
    "    split_dist = re.findall('([\\d\\.]+)?([a-zA-Z]+)', distance, re.U)\n",
    "    print(split_dist)\n",
    "    dist = 0.0\n",
    "    dist1 = 0.0\n",
    "    dist2 = 0.0\n",
    "    dist3 = 0.0\n",
    "    for value in split_dist:\n",
    "        if value[1] == 'm':\n",
    "            dist1 = float(value[0])\n",
    "        elif value[1] == 'f':\n",
    "            dist2 = float(value[0])*0.125\n",
    "        elif value[1] == 'y':\n",
    "            dist3 = float(value[0])*0.0005681818\n",
    "        else:\n",
    "            pass\n",
    "      \n",
    "    dist = dist1 + dist2 + dist3\n",
    "    \n",
    "    return dist"
   ]
  },
  {
   "cell_type": "code",
   "execution_count": null,
   "metadata": {},
   "outputs": [],
   "source": [
    "rrh['distance'] = rrh.apply(lambda row: convert_to_km(row['distance']), axis=1)"
   ]
  },
  {
   "cell_type": "code",
   "execution_count": null,
   "metadata": {},
   "outputs": [],
   "source": [
    "#'race_distance'\n",
    "rrr['Distance'] = rrr.apply(lambda row: convert_to_km(row['Distance']), axis=1)"
   ]
  },
  {
   "cell_type": "code",
   "execution_count": null,
   "metadata": {},
   "outputs": [],
   "source": [
    "# View the data\n",
    "rrh.head(2)"
   ]
  },
  {
   "cell_type": "code",
   "execution_count": null,
   "metadata": {},
   "outputs": [],
   "source": [
    "# View the data\n",
    "rrr.head(2)"
   ]
  },
  {
   "cell_type": "code",
   "execution_count": null,
   "metadata": {},
   "outputs": [],
   "source": [
    "# Explore the data\n",
    "rrh.info()"
   ]
  },
  {
   "cell_type": "code",
   "execution_count": null,
   "metadata": {},
   "outputs": [],
   "source": [
    "# Explore the data\n",
    "rrr.info()"
   ]
  },
  {
   "cell_type": "markdown",
   "metadata": {},
   "source": [
    "## Data Cleaning"
   ]
  },
  {
   "cell_type": "code",
   "execution_count": null,
   "metadata": {},
   "outputs": [],
   "source": [
    "# Look at the unique values in the column 'finishing_position'\n",
    "rrh['finishing_position'].unique()"
   ]
  },
  {
   "cell_type": "code",
   "execution_count": null,
   "metadata": {},
   "outputs": [],
   "source": [
    "rrh['finishing_position'] = rrh['finishing_position'].replace('PU','0')\n",
    "rrh['finishing_position'] = rrh['finishing_position'].replace('DQ','0')\n",
    "rrh['finishing_position'] = rrh['finishing_position'].replace('RR','0')\n",
    "rrh['finishing_position'] = rrh['finishing_position'].replace('U','0')\n",
    "rrh['finishing_position'] = rrh['finishing_position'].replace('F','0')\n",
    "rrh['finishing_position'] = rrh['finishing_position'].replace('RO','0')\n",
    "rrh['finishing_position'] = rrh['finishing_position'].replace('B','0')\n",
    "rrh['finishing_position'] = rrh['finishing_position'].replace('R','0')\n",
    "rrh['finishing_position'] = rrh['finishing_position'].replace('-','0')\n",
    "rrh['finishing_position'] = rrh['finishing_position'].replace('UR','0')\n",
    "rrh['finishing_position'] = rrh['finishing_position'].replace(0,'0')\n",
    "rrh['finishing_position'] = rrh['finishing_position'].replace('S','0')\n",
    "rrh['finishing_position'] = rrh['finishing_position'].replace('99','9')\n",
    "rrh['finishing_position'] = rrh['finishing_position'].replace('DSQ ','0')\n",
    "rrh['finishing_position'] = rrh['finishing_position'].replace('C','0')\n",
    "#S\n",
    "#S"
   ]
  },
  {
   "cell_type": "code",
   "execution_count": null,
   "metadata": {},
   "outputs": [],
   "source": [
    "# Look at the unique values in the column 'finishing_position'\n",
    "rrh['finishing_position'].unique()"
   ]
  },
  {
   "cell_type": "code",
   "execution_count": null,
   "metadata": {},
   "outputs": [],
   "source": [
    "# Drop rows in column where value is not a number\n",
    "df_horse = rrh[rrh['finishing_position'].isin([str(i) for i in range(0, 35)])]#.reset_index(drop=True)"
   ]
  },
  {
   "cell_type": "code",
   "execution_count": null,
   "metadata": {},
   "outputs": [],
   "source": [
    "# View the data\n",
    "df_horse.head(32)"
   ]
  },
  {
   "cell_type": "code",
   "execution_count": null,
   "metadata": {},
   "outputs": [],
   "source": [
    "# Check the data types after removing special characters\n",
    "df_horse.finishing_position.unique()"
   ]
  },
  {
   "cell_type": "code",
   "execution_count": null,
   "metadata": {},
   "outputs": [],
   "source": [
    "df_horse"
   ]
  },
  {
   "cell_type": "code",
   "execution_count": null,
   "metadata": {},
   "outputs": [],
   "source": [
    "# #  drop the rows where the “finish_position” is not a number (e.g. WV-A, WV). There may be accidents.\n",
    "rrh = rrh[rrh.finishing_position.isin(['1','2','3','4','5','6','7','8','9','10','11','12','13','14','15','16','17','18','19','20','21','22','23','24','25','26','27','28','29','30'])].reset_index() #,'31','32','33'\n",
    "rrh.head()"
   ]
  },
  {
   "cell_type": "code",
   "execution_count": null,
   "metadata": {
    "scrolled": false
   },
   "outputs": [],
   "source": [
    "horse_id = df_horse['horse_id'].unique()\n",
    "numHorse = len(horse_id)\n",
    "horse_index = range(numHorse)\n",
    "\n",
    "jockey = df_horse['jockey'].unique()\n",
    "numJockey = len(jockey)\n",
    "jockey_index = range(numJockey)\n",
    "\n",
    "trainer = df_horse['trainer'].unique()\n",
    "numTrainer = len(trainer)\n",
    "trainer_index = range(numTrainer)\n",
    "\n",
    "print(' Number of Horses:', numHorse, '\\n', 'Number of Jockeys:', numJockey,'\\n', 'Number of Trainers:', numTrainer)"
   ]
  },
  {
   "cell_type": "code",
   "execution_count": null,
   "metadata": {
    "scrolled": true
   },
   "outputs": [],
   "source": [
    "# Takes a while to run\n",
    "\n",
    "# Add a column named recent_6_runs to the dataframe, which records the recent ranks of the horse in each entry. \n",
    "# The ranks are separated by “/”, and a record is like 1/2/6/3/4/7.\n",
    "\n",
    "# Add a column named recent_ave_rank for each entry to the dataframe, \n",
    "# which records the average rank of the recent 6 runs of a horse\n",
    "# function optimized to run on gpu \n",
    "@jit#(target_backend='cuda')\n",
    "def func():\n",
    "    df_horse['recent_6_runs'] = '0'\n",
    "    df_horse['recent_ave_rank'] = '7'\n",
    "    for i in range(len(df_horse['finishing_position'])):\n",
    "          print(i)\n",
    "          # temp will just give a list of all the finishing positions of that particular horse\n",
    "          temp = df_horse[ : (i + 1)][df_horse.horse_id == df_horse.horse_id[i]][['finishing_position']]\n",
    "          #print(temp)\n",
    "          # we convert temp into a list, in reverse order, with the last race in front\n",
    "          temp = temp['finishing_position'].values.tolist()[::-1]\n",
    "          #print(temp)\n",
    "\n",
    "          # we then take the first 6 elements of the list, and join them with a '/'\n",
    "          df_horse['recent_6_runs'][i] = '/'.join(temp[:6])\n",
    "          #print(df_horse['recent_6_runs'][i])\n",
    "\n",
    "          # if list is not empty, then we convert string to float and take the average to get the recent_ave_rank\n",
    "          if len(temp) != 0:\n",
    "                temp_int = map(int,temp)\n",
    "               \n",
    "                temp_ave = np.mean(list(temp_int))\n",
    "                print(temp_ave)\n",
    "               \n",
    "                df_horse['recent_ave_rank'][i] = temp_ave\n",
    "func()\n",
    "                "
   ]
  },
  {
   "cell_type": "code",
   "execution_count": null,
   "metadata": {},
   "outputs": [],
   "source": [
    "# Check the data\n",
    "df_horse.tail()"
   ]
  },
  {
   "cell_type": "code",
   "execution_count": null,
   "metadata": {
    "scrolled": false
   },
   "outputs": [],
   "source": [
    "# Add column of Distance\n",
    "\n",
    "# The distance could be 1000, 1200, 1400, 1600, 1800, 2000, 2400, etc. \n",
    "# Some horses are good at short-distance races, while some are good at long-distance races.\n",
    "@jit(target_backend='cuda')\n",
    "def func1():\n",
    "    df_horse['race_distance'] = '0'\n",
    "    \n",
    "    # Iterate through the dataframe\n",
    "    for i in range(len(rrr['Race_ID'])):\n",
    "        print(i)\n",
    "        distance = rrr['Distance'][i]\n",
    "        print(distance)\n",
    "        df_horse['race_distance'][df_horse.race_id == rrr.Race_ID[i]] = distance\n",
    "func1()"
   ]
  },
  {
   "cell_type": "code",
   "execution_count": null,
   "metadata": {},
   "outputs": [],
   "source": [
    "# Add HorseWin, HorseRankTop3, HorseRankTop50Percent for use in Part3\n",
    "\n",
    "# Sets a boolean mask (either 1 or 0) for each new column\n",
    "df_horse['HorseWin'] = (df_horse.finishing_position == '1') + 0\n",
    "df_horse['HorseRankTop3'] = (df_horse.finishing_position == '1') + (df_horse.finishing_position == '2') + (df_horse.finishing_position == '3') + 0\n",
    "\n",
    "# Create a list of all the top1_indexes where the horse finished in the top\n",
    "top1_index = df_horse.index[df_horse['finishing_position'] == '1'].tolist()\n",
    "\n",
    "# Create another column where the horse finished in the top 50%\n",
    "df_horse['HorseRankTop50Percent'] = '0'\n",
    "for i in range(len(top1_index)-1):\n",
    "    df_horse['HorseRankTop50Percent'][top1_index[i]:(top1_index[i] + int(round(0.5 * (top1_index[i + 1] - top1_index[i]))))] = '1'\n",
    "\n",
    "# Created specifically for the last index because we cannot loop    \n",
    "df_horse['HorseRankTop50Percent'][top1_index[len(top1_index) - 1]:(top1_index[len(top1_index) - 1] + 6)] = '1'\n"
   ]
  },
  {
   "cell_type": "code",
   "execution_count": null,
   "metadata": {},
   "outputs": [],
   "source": [
    "df_horse.head(40)"
   ]
  },
  {
   "cell_type": "code",
   "execution_count": null,
   "metadata": {},
   "outputs": [],
   "source": [
    "# Save the data\n",
    "df_horse1 =df_horse.drop(['index'], axis=1)\n"
   ]
  },
  {
   "cell_type": "code",
   "execution_count": null,
   "metadata": {},
   "outputs": [],
   "source": [
    "df_horse.to_csv('D:\\\\documentos\\\\IA Caballos\\\\hurdle_data\\\\df_horse.csv', index=False)"
   ]
  },
  {
   "cell_type": "markdown",
   "metadata": {},
   "source": [
    "## Data Preparation"
   ]
  },
  {
   "cell_type": "code",
   "execution_count": null,
   "metadata": {},
   "outputs": [],
   "source": [
    "import pandas as pd\n",
    "import numpy as np\n",
    "from numba import jit, cuda\n",
    "\n",
    "df_horse = pd.read_csv('D:\\\\documentos\\\\IA Caballos\\\\hurdle_data\\\\df_horse.csv')\n",
    "df_train = df_horse\n",
    "#df_test = df_horse[(train_last_index + 1):(test_last_index + 1)]\n",
    "df_unseen = df_horse\n",
    "df_horse.head()\n"
   ]
  },
  {
   "cell_type": "code",
   "execution_count": null,
   "metadata": {},
   "outputs": [],
   "source": [
    "df_unseen.head(2)"
   ]
  },
  {
   "cell_type": "code",
   "execution_count": null,
   "metadata": {},
   "outputs": [],
   "source": [
    "@jit(target_backend='cuda')\n",
    "def type_l():\n",
    "    jockey = list(df_unseen['jockey'].unique())\n",
    "    return jockey\n",
    "print(type_l())"
   ]
  },
  {
   "cell_type": "code",
   "execution_count": null,
   "metadata": {},
   "outputs": [],
   "source": [
    "@jit(target_backend='cuda')\n",
    "def type_2():\n",
    "    trainer = list(df_unseen['trainer'].unique())\n",
    "    return trainer\n",
    "print(type_2())"
   ]
  },
  {
   "cell_type": "code",
   "execution_count": null,
   "metadata": {},
   "outputs": [],
   "source": [
    "# Calculate jockey_ave_rank, trainer_ave_rank ONLY for training and test data\n",
    "# jockey_ave_rank: records the average rank of the jockey\n",
    "# trainer_ave_rank: records the average rank of the trainer\n",
    "@jit(target_backend='cuda')\n",
    "def cal_ave_rank(df):\n",
    "    jockey = type_l()\n",
    "#jockey.head()\n",
    "    print(len(jockey))\n",
    "    df['jockey_ave_rank'] = '7'\n",
    "    \n",
    "    for i in range(len(jockey)):\n",
    "        print(i)\n",
    "        temp = df[df.jockey == jockey[i]][['finishing_position']]\n",
    "        temp = temp['finishing_position'].values.tolist()\n",
    "        if len(temp) != 0:\n",
    "            temp_int = map(int, temp)\n",
    "            temp_ave = np.mean(list(temp_int))\n",
    "            print('temp_ave')\n",
    "            print(temp_ave)\n",
    "            df['jockey_ave_rank'][df.jockey == jockey[i]] = temp_ave\n",
    "\n",
    "\n",
    "    df['trainer_ave_rank'] = '7'\n",
    "    trainer = type_2()\n",
    "    for i in range(len(trainer)):\n",
    "        print(i)\n",
    "        temp = df[df.trainer == trainer[i]][['finishing_position']]\n",
    "        temp = temp['finishing_position'].values.tolist()\n",
    "        if len(temp) != 0:\n",
    "            temp_int = map(int,temp)\n",
    "            temp_ave = np.mean(list(temp_int))\n",
    "            df['trainer_ave_rank'][df.trainer == trainer[i]] = temp_ave\n",
    "\n",
    "    return df\n"
   ]
  },
  {
   "cell_type": "code",
   "execution_count": null,
   "metadata": {},
   "outputs": [],
   "source": [
    "df_train = cal_ave_rank(df_train)"
   ]
  },
  {
   "cell_type": "code",
   "execution_count": null,
   "metadata": {},
   "outputs": [],
   "source": [
    "# Save the train set\n",
    "df_train.to_csv('D:\\\\documentos\\\\IA Caballos\\\\hurdle_data\\\\df_test.csv', index=False)\n",
    "\n",
    "# Save the test set\n",
    "\n",
    "df_train.to_csv('D:\\\\documentos\\\\IA Caballos\\\\hurdle_data\\\\df_train.csv', index=False)\n"
   ]
  },
  {
   "cell_type": "code",
   "execution_count": null,
   "metadata": {},
   "outputs": [],
   "source": [
    "# Port over the jockey_ave_rank and trainer_ave_rank to the unseen set\n",
    "@jit(target_backend='cuda')\n",
    "def unseen():\n",
    "    df_unseen['jockey_ave_rank'] = '7'\n",
    "    df_unseen_jockey =  type_l()\n",
    "    for i in range(len(df_unseen_jockey)):\n",
    "        if df_unseen_jockey[i] in df_train['jockey'].unique():\n",
    "            df_unseen['jockey_ave_rank'][df_unseen.jockey == df_unseen_jockey[i]]\\\n",
    "                = df_train[df_train.jockey == df_unseen_jockey[i]]['jockey_ave_rank'].tolist()[0]\n",
    "\n",
    "    df_unseen['trainer_ave_rank'] = '7'\n",
    "    df_unseen_trainer=  type_2()\n",
    "    for i in range(len(df_unseen_trainer)):\n",
    "        if df_unseen_trainer[i] in df_train['trainer'].unique():\n",
    "            df_unseen['trainer_ave_rank'][df_unseen.trainer == df_unseen_trainer[i]]\\\n",
    "                = df_train[df_train.trainer == df_unseen_trainer[i]]['trainer_ave_rank'].tolist()[0]\n"
   ]
  },
  {
   "cell_type": "code",
   "execution_count": null,
   "metadata": {},
   "outputs": [],
   "source": [
    "unseen()"
   ]
  },
  {
   "cell_type": "code",
   "execution_count": null,
   "metadata": {},
   "outputs": [],
   "source": [
    "df_unseen.to_csv('D:\\\\documentos\\\\IA Caballos\\\\hurdle_data\\\\df_unseen.csv', index=False)"
   ]
  },
  {
   "cell_type": "markdown",
   "metadata": {},
   "source": [
    " "
   ]
  }
 ],
 "metadata": {
  "kernelspec": {
   "display_name": "Python 3 (ipykernel)",
   "language": "python",
   "name": "python3"
  },
  "language_info": {
   "codemirror_mode": {
    "name": "ipython",
    "version": 3
   },
   "file_extension": ".py",
   "mimetype": "text/x-python",
   "name": "python",
   "nbconvert_exporter": "python",
   "pygments_lexer": "ipython3",
   "version": "3.9.13"
  },
  "vscode": {
   "interpreter": {
    "hash": "d0544f3d8f88c277ece8a7bca9c4cae84dfc7832020b3e571294385a87fe1e90"
   }
  }
 },
 "nbformat": 4,
 "nbformat_minor": 2
}
