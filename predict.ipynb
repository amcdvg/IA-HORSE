{
 "cells": [
  {
   "cell_type": "code",
   "execution_count": 451,
   "metadata": {},
   "outputs": [],
   "source": [
    "import streamlit as st\n",
    "import pickle\n",
    "import numpy as np\n",
    "from sklearn.linear_model import LogisticRegression\n",
    "import pandas as pd"
   ]
  },
  {
   "cell_type": "code",
   "execution_count": 452,
   "metadata": {},
   "outputs": [],
   "source": [
    "# Load the model\n",
    "def load_model():\n",
    "    with open('C:\\\\Users\\\\ROOM\\\\Documents\\\\IA Caballos\\\\data\\\\saved_steps.pkl', 'rb') as f:\n",
    "        data = pickle.load(f)\n",
    "    return data\n",
    "\n",
    "data = load_model()\n",
    "\n",
    "model = data['model']\n",
    "df_test = data['test_data']\n",
    "df_train = data['train_data']"
   ]
  },
  {
   "cell_type": "code",
   "execution_count": 453,
   "metadata": {},
   "outputs": [],
   "source": [
    "path = 'C:\\\\Users\\\\ROOM\\Documents\\\\IA Caballos\\\\HorseRacePrediction-main\\\\prediction_21_02_2023\\\\runinng\\\\SOUTHWELL_21_02_2023_8_00.csv'\n",
    "data_test = pd.read_csv(path)"
   ]
  },
  {
   "cell_type": "code",
   "execution_count": 454,
   "metadata": {},
   "outputs": [
    {
     "data": {
      "text/html": [
       "<div>\n",
       "<style scoped>\n",
       "    .dataframe tbody tr th:only-of-type {\n",
       "        vertical-align: middle;\n",
       "    }\n",
       "\n",
       "    .dataframe tbody tr th {\n",
       "        vertical-align: top;\n",
       "    }\n",
       "\n",
       "    .dataframe thead th {\n",
       "        text-align: right;\n",
       "    }\n",
       "</style>\n",
       "<table border=\"1\" class=\"dataframe\">\n",
       "  <thead>\n",
       "    <tr style=\"text-align: right;\">\n",
       "      <th></th>\n",
       "      <th>horse_name</th>\n",
       "      <th>jockey</th>\n",
       "      <th>trainner</th>\n",
       "    </tr>\n",
       "  </thead>\n",
       "  <tbody>\n",
       "    <tr>\n",
       "      <th>0</th>\n",
       "      <td>DARK SIDE PRINCE</td>\n",
       "      <td>Lewis Edmunds</td>\n",
       "      <td>Jessica Macey</td>\n",
       "    </tr>\n",
       "    <tr>\n",
       "      <th>1</th>\n",
       "      <td>DANDY SPIRIT</td>\n",
       "      <td>Jonny Peate</td>\n",
       "      <td>R G Fell</td>\n",
       "    </tr>\n",
       "    <tr>\n",
       "      <th>2</th>\n",
       "      <td>SHARRON MACREADY</td>\n",
       "      <td>Rossa Ryan</td>\n",
       "      <td>David Loughnane</td>\n",
       "    </tr>\n",
       "    <tr>\n",
       "      <th>3</th>\n",
       "      <td>MAN ON A MISSION</td>\n",
       "      <td>L Morris</td>\n",
       "      <td>Peter &amp; Clutterbuck</td>\n",
       "    </tr>\n",
       "    <tr>\n",
       "      <th>4</th>\n",
       "      <td>WEE FAT MAC</td>\n",
       "      <td>A Mullen</td>\n",
       "      <td>I Jardine</td>\n",
       "    </tr>\n",
       "    <tr>\n",
       "      <th>5</th>\n",
       "      <td>MEHMO</td>\n",
       "      <td>Oisin Murphy</td>\n",
       "      <td>M Appleby</td>\n",
       "    </tr>\n",
       "    <tr>\n",
       "      <th>6</th>\n",
       "      <td>ROSE BANDIT</td>\n",
       "      <td>Poppy Wilson</td>\n",
       "      <td>I Jardine</td>\n",
       "    </tr>\n",
       "    <tr>\n",
       "      <th>7</th>\n",
       "      <td>BRANDY STATION</td>\n",
       "      <td>Zak Wheatley</td>\n",
       "      <td>Mrs L Williamson</td>\n",
       "    </tr>\n",
       "    <tr>\n",
       "      <th>8</th>\n",
       "      <td>MADAM ARKATI</td>\n",
       "      <td>Paula Muir</td>\n",
       "      <td>C W Fairhurst</td>\n",
       "    </tr>\n",
       "    <tr>\n",
       "      <th>9</th>\n",
       "      <td>ARKID</td>\n",
       "      <td>K T O'Neill</td>\n",
       "      <td>J L Eyre</td>\n",
       "    </tr>\n",
       "    <tr>\n",
       "      <th>10</th>\n",
       "      <td>MR GINJA NINJA</td>\n",
       "      <td>Cam Hardie</td>\n",
       "      <td>D Shaw</td>\n",
       "    </tr>\n",
       "  </tbody>\n",
       "</table>\n",
       "</div>"
      ],
      "text/plain": [
       "          horse_name         jockey             trainner\n",
       "0   DARK SIDE PRINCE  Lewis Edmunds        Jessica Macey\n",
       "1       DANDY SPIRIT    Jonny Peate             R G Fell\n",
       "2   SHARRON MACREADY     Rossa Ryan      David Loughnane\n",
       "3   MAN ON A MISSION       L Morris  Peter & Clutterbuck\n",
       "4        WEE FAT MAC       A Mullen            I Jardine\n",
       "5              MEHMO   Oisin Murphy            M Appleby\n",
       "6        ROSE BANDIT   Poppy Wilson            I Jardine\n",
       "7     BRANDY STATION   Zak Wheatley     Mrs L Williamson\n",
       "8       MADAM ARKATI     Paula Muir        C W Fairhurst\n",
       "9              ARKID    K T O'Neill             J L Eyre\n",
       "10    MR GINJA NINJA     Cam Hardie               D Shaw"
      ]
     },
     "execution_count": 454,
     "metadata": {},
     "output_type": "execute_result"
    }
   ],
   "source": [
    "data_test.head(12)"
   ]
  },
  {
   "cell_type": "code",
   "execution_count": 455,
   "metadata": {},
   "outputs": [
    {
     "data": {
      "text/plain": [
       "53"
      ]
     },
     "execution_count": 455,
     "metadata": {},
     "output_type": "execute_result"
    }
   ],
   "source": [
    "import os\n",
    "name_file = path.split('\\\\')[-1]\n",
    "name = name_file.split('.')[0]\n",
    "file = open(\"C:\\\\Users\\\\ROOM\\\\Documents\\\\IA Caballos\\\\HorseRacePrediction-main\\\\prediction_21_02_2023\\\\predict\\\\\"+name+'.txt', \"w\",encoding=\"utf-8\")\n",
    "file.write(\"******** PREDICCIÓN INTELIGENCIA ARTIFICIAL *******\" + os.linesep)\n"
   ]
  },
  {
   "cell_type": "code",
   "execution_count": 456,
   "metadata": {},
   "outputs": [
    {
     "name": "stdout",
     "output_type": "stream",
     "text": [
      "         horse_name         jockey             trainner\n",
      "0  DARK SIDE PRINCE  Lewis Edmunds        Jessica Macey\n",
      "1      DANDY SPIRIT    Jonny Peate             R G Fell\n",
      "2  SHARRON MACREADY     Rossa Ryan      David Loughnane\n",
      "3  MAN ON A MISSION       L Morris  Peter & Clutterbuck\n",
      "Dark Side Prince\n",
      "[[58.34        0.          5.05662146  5.64864865  5.71131742  6.\n",
      "   0.64        5.28        4.          0.63977273]]\n",
      "Dandy Spirit\n"
     ]
    },
    {
     "name": "stderr",
     "output_type": "stream",
     "text": [
      "C:\\Users\\ROOM\\AppData\\Local\\Temp\\ipykernel_10376\\348739744.py:76: DeprecationWarning: `np.float` is a deprecated alias for the builtin `float`. To silence this warning, use `float` by itself. Doing this will not modify any behavior and is safe. If you specifically wanted the numpy scalar type, use `np.float64` here.\n",
      "Deprecated in NumPy 1.20; for more details and guidance: https://numpy.org/devdocs/release/1.20.0-notes.html#deprecations\n",
      "  input_variables = input_variables.astype(np.float)\n",
      "c:\\Users\\ROOM\\Documents\\IA Caballos\\HorseRacePrediction-main\\env\\lib\\site-packages\\sklearn\\base.py:450: UserWarning: X does not have valid feature names, but RandomForestClassifier was fitted with feature names\n",
      "  warnings.warn(\n"
     ]
    },
    {
     "name": "stdout",
     "output_type": "stream",
     "text": [
      "[[59.44137931  0.          5.57453543  5.69626498  5.70528967  4.\n",
      "   0.34482759  6.89655172  5.75862069  0.70213558]]\n",
      "Sharron Macready\n"
     ]
    },
    {
     "name": "stderr",
     "output_type": "stream",
     "text": [
      "C:\\Users\\ROOM\\AppData\\Local\\Temp\\ipykernel_10376\\348739744.py:76: DeprecationWarning: `np.float` is a deprecated alias for the builtin `float`. To silence this warning, use `float` by itself. Doing this will not modify any behavior and is safe. If you specifically wanted the numpy scalar type, use `np.float64` here.\n",
      "Deprecated in NumPy 1.20; for more details and guidance: https://numpy.org/devdocs/release/1.20.0-notes.html#deprecations\n",
      "  input_variables = input_variables.astype(np.float)\n",
      "c:\\Users\\ROOM\\Documents\\IA Caballos\\HorseRacePrediction-main\\env\\lib\\site-packages\\sklearn\\base.py:450: UserWarning: X does not have valid feature names, but RandomForestClassifier was fitted with feature names\n",
      "  warnings.warn(\n"
     ]
    },
    {
     "name": "stdout",
     "output_type": "stream",
     "text": [
      "[[58.05        0.          3.10333333  5.45661896  5.03541667  1.\n",
      "   0.4         4.4         4.6         0.76068182]]\n",
      "Man On A Mission\n"
     ]
    },
    {
     "name": "stderr",
     "output_type": "stream",
     "text": [
      "C:\\Users\\ROOM\\AppData\\Local\\Temp\\ipykernel_10376\\348739744.py:76: DeprecationWarning: `np.float` is a deprecated alias for the builtin `float`. To silence this warning, use `float` by itself. Doing this will not modify any behavior and is safe. If you specifically wanted the numpy scalar type, use `np.float64` here.\n",
      "Deprecated in NumPy 1.20; for more details and guidance: https://numpy.org/devdocs/release/1.20.0-notes.html#deprecations\n",
      "  input_variables = input_variables.astype(np.float)\n",
      "c:\\Users\\ROOM\\Documents\\IA Caballos\\HorseRacePrediction-main\\env\\lib\\site-packages\\sklearn\\base.py:450: UserWarning: X does not have valid feature names, but RandomForestClassifier was fitted with feature names\n",
      "  warnings.warn(\n"
     ]
    },
    {
     "name": "stdout",
     "output_type": "stream",
     "text": [
      "[[58.23055556  0.          5.77818655  5.9375      5.29731237  3.\n",
      "   0.27777778  5.44444444  4.77777778  0.67872475]]\n",
      "Wee Fat Mac\n"
     ]
    },
    {
     "name": "stderr",
     "output_type": "stream",
     "text": [
      "C:\\Users\\ROOM\\AppData\\Local\\Temp\\ipykernel_10376\\348739744.py:76: DeprecationWarning: `np.float` is a deprecated alias for the builtin `float`. To silence this warning, use `float` by itself. Doing this will not modify any behavior and is safe. If you specifically wanted the numpy scalar type, use `np.float64` here.\n",
      "Deprecated in NumPy 1.20; for more details and guidance: https://numpy.org/devdocs/release/1.20.0-notes.html#deprecations\n",
      "  input_variables = input_variables.astype(np.float)\n",
      "c:\\Users\\ROOM\\Documents\\IA Caballos\\HorseRacePrediction-main\\env\\lib\\site-packages\\sklearn\\base.py:450: UserWarning: X does not have valid feature names, but RandomForestClassifier was fitted with feature names\n",
      "  warnings.warn(\n"
     ]
    },
    {
     "name": "stdout",
     "output_type": "stream",
     "text": [
      "[[59.19444444  0.          6.93880071  5.25373977  5.91102729  2.\n",
      "   0.22222222  5.55555556  5.77777778  0.72430556]]\n",
      "Mehmo\n"
     ]
    },
    {
     "name": "stderr",
     "output_type": "stream",
     "text": [
      "C:\\Users\\ROOM\\AppData\\Local\\Temp\\ipykernel_10376\\348739744.py:76: DeprecationWarning: `np.float` is a deprecated alias for the builtin `float`. To silence this warning, use `float` by itself. Doing this will not modify any behavior and is safe. If you specifically wanted the numpy scalar type, use `np.float64` here.\n",
      "Deprecated in NumPy 1.20; for more details and guidance: https://numpy.org/devdocs/release/1.20.0-notes.html#deprecations\n",
      "  input_variables = input_variables.astype(np.float)\n",
      "c:\\Users\\ROOM\\Documents\\IA Caballos\\HorseRacePrediction-main\\env\\lib\\site-packages\\sklearn\\base.py:450: UserWarning: X does not have valid feature names, but RandomForestClassifier was fitted with feature names\n",
      "  warnings.warn(\n"
     ]
    },
    {
     "name": "stdout",
     "output_type": "stream",
     "text": [
      "[[58.34166667  0.          4.71319785  5.36415247  4.40546448  2.\n",
      "   0.25        5.52777778  4.97222222  0.69379735]]\n",
      "Rose Bandit\n"
     ]
    },
    {
     "name": "stderr",
     "output_type": "stream",
     "text": [
      "C:\\Users\\ROOM\\AppData\\Local\\Temp\\ipykernel_10376\\348739744.py:76: DeprecationWarning: `np.float` is a deprecated alias for the builtin `float`. To silence this warning, use `float` by itself. Doing this will not modify any behavior and is safe. If you specifically wanted the numpy scalar type, use `np.float64` here.\n",
      "Deprecated in NumPy 1.20; for more details and guidance: https://numpy.org/devdocs/release/1.20.0-notes.html#deprecations\n",
      "  input_variables = input_variables.astype(np.float)\n",
      "c:\\Users\\ROOM\\Documents\\IA Caballos\\HorseRacePrediction-main\\env\\lib\\site-packages\\sklearn\\base.py:450: UserWarning: X does not have valid feature names, but RandomForestClassifier was fitted with feature names\n",
      "  warnings.warn(\n"
     ]
    },
    {
     "name": "stdout",
     "output_type": "stream",
     "text": [
      "[[57.71923077  0.          5.44412759  5.25373977  5.4         5.\n",
      "   0.41025641  5.74358974  5.61538462  0.68792249]]\n",
      "Brandy Station\n"
     ]
    },
    {
     "name": "stderr",
     "output_type": "stream",
     "text": [
      "C:\\Users\\ROOM\\AppData\\Local\\Temp\\ipykernel_10376\\348739744.py:76: DeprecationWarning: `np.float` is a deprecated alias for the builtin `float`. To silence this warning, use `float` by itself. Doing this will not modify any behavior and is safe. If you specifically wanted the numpy scalar type, use `np.float64` here.\n",
      "Deprecated in NumPy 1.20; for more details and guidance: https://numpy.org/devdocs/release/1.20.0-notes.html#deprecations\n",
      "  input_variables = input_variables.astype(np.float)\n",
      "c:\\Users\\ROOM\\Documents\\IA Caballos\\HorseRacePrediction-main\\env\\lib\\site-packages\\sklearn\\base.py:450: UserWarning: X does not have valid feature names, but RandomForestClassifier was fitted with feature names\n",
      "  warnings.warn(\n"
     ]
    },
    {
     "name": "stdout",
     "output_type": "stream",
     "text": [
      "[[55.67459016  0.5         5.44173293  6.69940222  6.15263158  8.\n",
      "   0.32786885  5.49180328  5.50819672  0.62852086]]\n",
      "Madam Arkati\n"
     ]
    },
    {
     "name": "stderr",
     "output_type": "stream",
     "text": [
      "C:\\Users\\ROOM\\AppData\\Local\\Temp\\ipykernel_10376\\348739744.py:76: DeprecationWarning: `np.float` is a deprecated alias for the builtin `float`. To silence this warning, use `float` by itself. Doing this will not modify any behavior and is safe. If you specifically wanted the numpy scalar type, use `np.float64` here.\n",
      "Deprecated in NumPy 1.20; for more details and guidance: https://numpy.org/devdocs/release/1.20.0-notes.html#deprecations\n",
      "  input_variables = input_variables.astype(np.float)\n",
      "c:\\Users\\ROOM\\Documents\\IA Caballos\\HorseRacePrediction-main\\env\\lib\\site-packages\\sklearn\\base.py:450: UserWarning: X does not have valid feature names, but RandomForestClassifier was fitted with feature names\n",
      "  warnings.warn(\n"
     ]
    },
    {
     "name": "stdout",
     "output_type": "stream",
     "text": [
      "[[56.65        0.          7.          5.93377483  6.15983176  0.\n",
      "   0.          4.          7.          0.75      ]]\n",
      "Arkid\n"
     ]
    },
    {
     "name": "stderr",
     "output_type": "stream",
     "text": [
      "C:\\Users\\ROOM\\AppData\\Local\\Temp\\ipykernel_10376\\348739744.py:76: DeprecationWarning: `np.float` is a deprecated alias for the builtin `float`. To silence this warning, use `float` by itself. Doing this will not modify any behavior and is safe. If you specifically wanted the numpy scalar type, use `np.float64` here.\n",
      "Deprecated in NumPy 1.20; for more details and guidance: https://numpy.org/devdocs/release/1.20.0-notes.html#deprecations\n",
      "  input_variables = input_variables.astype(np.float)\n",
      "c:\\Users\\ROOM\\Documents\\IA Caballos\\HorseRacePrediction-main\\env\\lib\\site-packages\\sklearn\\base.py:450: UserWarning: X does not have valid feature names, but RandomForestClassifier was fitted with feature names\n",
      "  warnings.warn(\n"
     ]
    },
    {
     "name": "stdout",
     "output_type": "stream",
     "text": [
      "[[56.42        0.          7.13948181  6.04030501  5.86222732  0.\n",
      "   0.2         5.33333333  7.          0.63700757]]\n",
      "Mr Ginja Ninja\n"
     ]
    },
    {
     "name": "stderr",
     "output_type": "stream",
     "text": [
      "C:\\Users\\ROOM\\AppData\\Local\\Temp\\ipykernel_10376\\348739744.py:76: DeprecationWarning: `np.float` is a deprecated alias for the builtin `float`. To silence this warning, use `float` by itself. Doing this will not modify any behavior and is safe. If you specifically wanted the numpy scalar type, use `np.float64` here.\n",
      "Deprecated in NumPy 1.20; for more details and guidance: https://numpy.org/devdocs/release/1.20.0-notes.html#deprecations\n",
      "  input_variables = input_variables.astype(np.float)\n",
      "c:\\Users\\ROOM\\Documents\\IA Caballos\\HorseRacePrediction-main\\env\\lib\\site-packages\\sklearn\\base.py:450: UserWarning: X does not have valid feature names, but RandomForestClassifier was fitted with feature names\n",
      "  warnings.warn(\n"
     ]
    },
    {
     "name": "stdout",
     "output_type": "stream",
     "text": [
      "[[55.26666667  0.          7.41481481  6.32011662  6.17684964  0.\n",
      "   0.11111111  4.77777778  6.66666667  0.65763889]]\n",
      "[(5.364152473641525, 4.40546448, 2.0, 58.34166666666667, 2.0, 0.25, 5.527777777777778, 4.972222222222222, 0.693797348061111, 58.34166666666667), (5.456618962432916, 5.03541667, 1.0, 58.05, 1.0, 0.4, 4.4, 4.6, 0.7606818178399999, 58.05), (5.9375, 5.29731237, 3.0, 58.23055555555555, 3.0, 0.2777777777777778, 5.444444444444445, 4.777777777777778, 0.6787247466444445, 58.23055555555555), (5.25373976855772, 5.4, 5.0, 57.719230769230776, 5.0, 0.41025641025641024, 5.743589743589744, 5.615384615384615, 0.6879224939025642, 57.719230769230776), (5.696264975334743, 5.70528967, 4.0, 59.441379310344836, 4.0, 0.3448275862068966, 6.896551724137931, 5.758620689655173, 0.702135579813793, 59.441379310344836), (5.648648648648647, 5.71131742, 6.0, 58.34, 6.0, 0.64, 5.28, 4.0, 0.63977272584, 58.34), (5.648648648648647, 5.71131742, 6.0, 58.34, 6.0, 0.64, 5.28, 4.0, 0.63977272584, 58.34), (6.040305010893248, 5.86222732, 0.0, 56.42, 0.0, 0.2, 5.333333333333333, 7.0, 0.63700757484, 56.42), (5.25373976855772, 5.91102729, 2.0, 59.19444444444444, 2.0, 0.2222222222222222, 5.555555555555555, 5.777777777777778, 0.7243055550444445, 59.19444444444444), (6.699402220324509, 6.15263158, 8.0, 55.674590163934425, 8.0, 0.32786885245901637, 5.491803278688525, 5.508196721311475, 0.628520863022951, 55.674590163934425), (5.933774834437086, 6.15983176, 0.0, 56.65, 0.0, 0.0, 4.0, 7.0, 0.75, 56.65), (6.320116618075802, 6.17684964, 0.0, 55.266666666666666, 0.0, 0.1111111111111111, 4.777777777777778, 6.666666666666667, 0.657638888288889, 55.266666666666666)]\n",
      "[(9, 4.393300884261175), (11, 4.202692456395638), (7, 4.034177443631083), (10, 4.031202198145696), (5, 3.9999886895495496), (6, 3.9999886895495496), (4, 3.915460743847213), (2, 3.8375300492592594), (8, 3.7956630935933138), (3, 3.687998726271377), (1, 3.6306785441443057), (0, 3.339872317880508)]\n",
      "[('Brandy Station', -78.18327161826352), ('Dandy Spirit', -76.49850683912561), ('Wee Fat Mac', -75.70525467940529), ('Dark Side Prince', -75.32118386130716), ('Rose Bandit', -75.05525757954243), ('Madam Arkati', -73.85542808042965), ('Man On A Mission', -73.83966205707), ('Arkid', -73.32176089361536), ('Mr Ginja Ninja', -72.8656418190601), ('Mehmo', -70.98222532109558), ('Sharron Macready', -68.88989867333592)]\n",
      "11\n"
     ]
    },
    {
     "name": "stderr",
     "output_type": "stream",
     "text": [
      "C:\\Users\\ROOM\\AppData\\Local\\Temp\\ipykernel_10376\\348739744.py:76: DeprecationWarning: `np.float` is a deprecated alias for the builtin `float`. To silence this warning, use `float` by itself. Doing this will not modify any behavior and is safe. If you specifically wanted the numpy scalar type, use `np.float64` here.\n",
      "Deprecated in NumPy 1.20; for more details and guidance: https://numpy.org/devdocs/release/1.20.0-notes.html#deprecations\n",
      "  input_variables = input_variables.astype(np.float)\n",
      "c:\\Users\\ROOM\\Documents\\IA Caballos\\HorseRacePrediction-main\\env\\lib\\site-packages\\sklearn\\base.py:450: UserWarning: X does not have valid feature names, but RandomForestClassifier was fitted with feature names\n",
      "  warnings.warn(\n"
     ]
    },
    {
     "data": {
      "text/plain": [
       "3"
      ]
     },
     "execution_count": 456,
     "metadata": {},
     "output_type": "execute_result"
    }
   ],
   "source": [
    "lista_horse_input = []\n",
    "list_best_horse = []\n",
    "lista=[]\n",
    "lista32 = []\n",
    "lista_pred = []\n",
    "def isNaN(num):\n",
    "    return num != num\n",
    "print(data_test[0:4])\n",
    "\n",
    "for i in data_test.index:\n",
    "    horse_name = data_test['horse_name'][i].title()\n",
    "    jockey = data_test['jockey'][i]\n",
    "    trainner = data_test['trainner'][i]\n",
    "    print(horse_name)\n",
    "    horse_weight = df_test[df_test['horse_name'] == horse_name]['declared_horse_weight'].mean()\n",
    "    if np.isnan(horse_weight):\n",
    "            horse_weight = df_train[df_train['horse_name'] == horse_name]['declared_horse_weight'].mean()\n",
    "\n",
    "    # Transform horse name into recent average rank\n",
    "    avg_rank = df_test[df_test['horse_name'] == horse_name]['recent_ave_rank'].mean()\n",
    "    if np.isnan(avg_rank):\n",
    "            avg_rank = df_train[df_train['horse_name'] == horse_name]['recent_ave_rank'].mean()\n",
    "    \n",
    "    #top3\n",
    "    top3= df_test[df_test['horse_name'] == horse_name]['HorseRankTop3'].mean()\n",
    "    if np.isnan(top3):\n",
    "            top3= df_train[df_train['horse_name'] == horse_name]['HorseRankTop3'].mean()\n",
    "            \n",
    "    #draw\n",
    "    draw3= df_test[df_test['horse_name'] == horse_name]['draw'].mean()\n",
    "    if np.isnan(draw3):\n",
    "            draw3= df_train[df_train['horse_name'] == horse_name]['draw'].mean()\n",
    "            \n",
    "        \n",
    "\n",
    "    # finishing_position\n",
    "    finishnk = df_test[df_test['horse_name'] == horse_name]['finishing_position'].mean()\n",
    "    if np.isnan(finishnk):\n",
    "            finishnk = df_train[df_train['horse_name'] == horse_name]['finishing_position'].mean()\n",
    "    \n",
    "    # Distance \n",
    "    # race_distance\n",
    "    race_distance = df_test[df_test['horse_name'] == horse_name]['race_distance'].mean()\n",
    "    if np.isnan(race_distance):\n",
    "            race_distance = df_train[df_train['horse_name'] == horse_name]['race_distance'].mean()\n",
    "    \n",
    "\n",
    "    # Transform horse number into handicap weights\n",
    "    \n",
    "    #transform Jockey into win_porcentage_jockey\n",
    "    win_odds1 = df_test[df_test['horse_name'] == horse_name]['win_odds'].sum()\n",
    "    if np.isnan(win_odds1):\n",
    "        win_odds1 = df_train[df_train['horse_name'] == horse_name]['win_odds'].sum()\n",
    "    \n",
    "    win_trainner = df_test[df_test['trainer'] == trainner]['trainer_ave_rank'].mean()\n",
    "    if np.isnan(win_trainner):\n",
    "        win_trainner = df_train[df_test['trainer'] == trainner]['trainer_ave_rank'].mean() \n",
    "    \n",
    "    \n",
    "    HorseWin= df_test[df_test['horse_name'] == horse_name]['HorseWin'].sum()\n",
    "    if np.isnan(HorseWin):\n",
    "             HorseWin  = df_train[df_train['HorseWin'] == horse_name]['HorseWin'].sum()\n",
    "    \n",
    "    #print(win_odds)\n",
    "    #print(win_trainner)\n",
    "    # Transform jockey into jockey recent average rank\n",
    "    jockey_avg_rank = df_test[df_test['jockey'] == jockey]['jockey_ave_rank'].mean()\n",
    "    if np.isnan(jockey_avg_rank):\n",
    "            jockey_avg_rank = df_train[df_train['jockey'] == jockey]['jockey_ave_rank'].mean()\n",
    "    \n",
    "    input_variables = np.array([[ horse_weight, win_odds1, avg_rank, win_trainner,  #horse_name, #jockey, trainner,\n",
    "                                    jockey_avg_rank,HorseWin,top3,draw3,finishnk,race_distance]])\n",
    "    print(input_variables)\n",
    "     \n",
    "        # change the input variable type to float\n",
    "    input_variables = input_variables.astype(np.float)\n",
    "\n",
    "        # get the prediction from the model\n",
    "    \n",
    "    try:\n",
    "    \n",
    "      \n",
    "       #print(lista)\n",
    "       prediction = model.predict(input_variables)[0]\n",
    "       lista_horse_input.append((horse_name,input_variables))\n",
    "       lista.append((input_variables[0][3],float(format(input_variables[0][4],'.8f')),input_variables[0][5],input_variables[0][0],input_variables[0][5],\n",
    "                     input_variables[0][6],input_variables[0][7],input_variables[0][8],input_variables[0][9],input_variables[0][0]))\n",
    "       lista32.append((horse_name,input_variables[0][3],float(format(input_variables[0][4],'.8f')),input_variables[0][5],input_variables[0][0]))\n",
    "       print('******prediction******')\n",
    "       print(lista32)\n",
    "       #if prediction == 1:\n",
    "       #    if len(list_best_horse) ==0:\n",
    "       #        list_best_horse.append(input_variables)\n",
    "       #    elif list_best_horse[0][0][3] < input_variables[0][3]:\n",
    "       #         list_best_horse.append(input_variables)\n",
    "       #    else:\n",
    "       #        pass\n",
    "       #print(prediction)\n",
    "    \n",
    "           \n",
    "           \n",
    "       \n",
    "    except:\n",
    "        lista_horse_input.append((horse_name,input_variables))\n",
    "       #lista.append((input_variables[0][3],input_variables[0][4],input_variables[0][5]))\n",
    "        if len(lista) >= 1:\n",
    "            pass\n",
    "        else:\n",
    "            if (isNaN(input_variables[0][0])\n",
    "                or isNaN(input_variables[0][1])\n",
    "                or  isNaN(input_variables[0][2])\n",
    "                or  isNaN(input_variables[0][3])\n",
    "                or  isNaN(input_variables[0][4])\n",
    "                or  isNaN(input_variables[0][5])\n",
    "                ):\n",
    "                pass\n",
    "            \n",
    "            else:\n",
    "                lista.append((input_variables[0][3],float(format(input_variables[0][4],'.8f')),input_variables[0][5],input_variables[0][0],input_variables[0][5],\n",
    "                              input_variables[0][6],input_variables[0][7],input_variables[0][8],input_variables[0][9],input_variables[0][0]))\n",
    "            pass\n",
    "            # print(0)\n",
    "        \n",
    "            \n",
    "    if len(lista)<=3:\n",
    "        lista.append((input_variables[0][3],float(format(input_variables[0][4],'.8f')),input_variables[0][5],input_variables[0][0],input_variables[0][5],\n",
    "                      input_variables[0][6],input_variables[0][7],input_variables[0][8],input_variables[0][9],input_variables[0][0]))\n",
    "    else:\n",
    "        lista.append((input_variables[0][3],float(format(input_variables[0][4],'.8f')),input_variables[0][5],input_variables[0][0],input_variables[0][5],\n",
    "                      input_variables[0][6],input_variables[0][7],input_variables[0][8],input_variables[0][9],input_variables[0][0]))\n",
    "lista_new = []\n",
    "count2 = 0\n",
    "\n",
    "lista.sort(key = lambda x: x[1])#,reverse=True)\n",
    "import statistics\n",
    "for s in lista:\n",
    "    list1=list(s)\n",
    "\n",
    "    number = (s[0]+s[1]+s[5])/3\n",
    "    lista_new.append((count2,number))\n",
    "    count2 +=1\n",
    "lista_new.sort(key = lambda x: x[1],reverse=True)\n",
    "print(lista) \n",
    "print(lista_new)\n",
    "\n",
    "resultantList = []\n",
    "list_pred_tp3 = []\n",
    " \n",
    "for element in lista:\n",
    "    if element not in resultantList:\n",
    "        resultantList.append(element)\n",
    "import math\n",
    "\n",
    "for k in lista_horse_input:\n",
    "    number = (k[1][0][1]+k[1][0][2]+k[1][0][3]+k[1][0][4]+k[1][0][5]+k[1][0][6]+k[1][0][7]+k[1][0][8]+k[1][0][0])/9#+k[1][0][9]\n",
    "\n",
    "    isNaN = math.isnan(number)\n",
    "    if isNaN:\n",
    "        pred = (k[1][0][3]+k[1][0][4])/2\n",
    "    else:\n",
    "        pred = number \n",
    "    #print(isNaN) \n",
    "    \n",
    "    list_pred_tp3.append(k[1][0][6]) \n",
    "    lista_pred.append((k[0],pred-k[1][0][5]-k[1][0][4]-k[1][0][3]-k[1][0][8]-k[1][0][2]-k[1][0][1]-k[1][0][9]-k[1][0][0]))#,k[1][0][7]))#+k[1][0][0]))#-k[1][0][7]-k[1][0][6]-k[1][0][9]\n",
    "lista_pred1 = [x for x in lista_pred if math.isnan(x[1]) == False]\n",
    "lista_pred1.sort(key = lambda x: x[1])#,reverse=True)\n",
    "print(lista_pred1)   \n",
    "print(len(lista_horse_input))    \n",
    "posiciones = []\n",
    "count = 1\n",
    "#for k in  resultantList:\n",
    "#    for j in lista_horse_input:\n",
    "#        print(j)\n",
    "#        if j[1][0][3] == k[0]:\n",
    "#             file.write('posición '+ str(count) +' '+ j[0] + os.linesep)\n",
    "#             posiciones.append(j[0])\n",
    "             #print('posición '+ str(count) +' '+ j[0])\n",
    "#             count +=1\n",
    "#        else:\n",
    "#            pass\n",
    "new_list_pred = []\n",
    "max_value = max(list_pred_tp3)\n",
    "\n",
    "        \n",
    "for k in  lista_pred1:\n",
    "    file.write('posición '+ str(count) +' '+  k[0] + os.linesep)#j[0] + os.linesep)\n",
    "    posiciones.append(k[0])#j[0])\n",
    "             \n",
    "    count +=1\n",
    "        \n",
    "file.write(\"\\n\" + os.linesep)\n",
    "#file.write(\"******** RESULTADOS REALES *******\" + os.linesep)\n",
    "#count1 = 1\n",
    "#for i in data_test.index:\n",
    "#    file.write('posición '+ str(count1) +' '+ data_test['horse_name'][i].title() + os.linesep)\n",
    "#    count1 += 1\n",
    "    \n",
    "\n",
    "\n",
    "#file.close()\n",
    "             \n",
    "             \n",
    "        \n",
    "#lista.remove(list_best_horse[0][0][3])\n",
    "#lista.sort()\n",
    "#print(lista)\n",
    "\n",
    "#count = 2\n",
    "#for j in lista_horse_input:\n",
    "#    if j[1][0][3] == list_best_horse[0][0][3]:\n",
    "#       print('posición '+ str(1) +' '+ j[0])\n",
    "#    for k in lista[0:2]:\n",
    "         \n",
    "#        if j[1][0][3]== k:\n",
    "#            print('posición '+ str(count) +' '+ j[0])\n",
    "#            count +=1\n",
    "        "
   ]
  },
  {
   "cell_type": "code",
   "execution_count": 457,
   "metadata": {},
   "outputs": [
    {
     "name": "stdout",
     "output_type": "stream",
     "text": [
      "[('Brandy Station', 'Dandy Spirit', 'Wee Fat Mac', 'Dark Side Prince'), ('Brandy Station', 'Dandy Spirit', 'Dark Side Prince', 'Wee Fat Mac'), ('Brandy Station', 'Wee Fat Mac', 'Dandy Spirit', 'Dark Side Prince'), ('Brandy Station', 'Wee Fat Mac', 'Dark Side Prince', 'Dandy Spirit'), ('Brandy Station', 'Dark Side Prince', 'Dandy Spirit', 'Wee Fat Mac'), ('Brandy Station', 'Dark Side Prince', 'Wee Fat Mac', 'Dandy Spirit'), ('Dandy Spirit', 'Brandy Station', 'Wee Fat Mac', 'Dark Side Prince'), ('Dandy Spirit', 'Brandy Station', 'Dark Side Prince', 'Wee Fat Mac'), ('Dandy Spirit', 'Wee Fat Mac', 'Brandy Station', 'Dark Side Prince'), ('Dandy Spirit', 'Wee Fat Mac', 'Dark Side Prince', 'Brandy Station'), ('Dandy Spirit', 'Dark Side Prince', 'Brandy Station', 'Wee Fat Mac'), ('Dandy Spirit', 'Dark Side Prince', 'Wee Fat Mac', 'Brandy Station'), ('Wee Fat Mac', 'Brandy Station', 'Dandy Spirit', 'Dark Side Prince'), ('Wee Fat Mac', 'Brandy Station', 'Dark Side Prince', 'Dandy Spirit'), ('Wee Fat Mac', 'Dandy Spirit', 'Brandy Station', 'Dark Side Prince'), ('Wee Fat Mac', 'Dandy Spirit', 'Dark Side Prince', 'Brandy Station'), ('Wee Fat Mac', 'Dark Side Prince', 'Brandy Station', 'Dandy Spirit'), ('Wee Fat Mac', 'Dark Side Prince', 'Dandy Spirit', 'Brandy Station'), ('Dark Side Prince', 'Brandy Station', 'Dandy Spirit', 'Wee Fat Mac'), ('Dark Side Prince', 'Brandy Station', 'Wee Fat Mac', 'Dandy Spirit'), ('Dark Side Prince', 'Dandy Spirit', 'Brandy Station', 'Wee Fat Mac'), ('Dark Side Prince', 'Dandy Spirit', 'Wee Fat Mac', 'Brandy Station'), ('Dark Side Prince', 'Wee Fat Mac', 'Brandy Station', 'Dandy Spirit'), ('Dark Side Prince', 'Wee Fat Mac', 'Dandy Spirit', 'Brandy Station')]\n",
      "[]\n"
     ]
    }
   ],
   "source": [
    "\n",
    "import itertools\n",
    "\n",
    "permutations = list(itertools.permutations(posiciones[0:4]))\n",
    "print(permutations)\n",
    "for i in permutations:\n",
    "    file.write(\"***************************************\" + os.linesep)\n",
    "    file.write('posición '+ str(1) +' '+ i[0] + os.linesep)\n",
    "    file.write('posición '+ str(2) +' '+ i[1] + os.linesep)\n",
    "    file.write('posición '+ str(3) +' '+ i[2] + os.linesep)\n",
    "    file.write('posición '+ str(4) +' '+ i[3] + os.linesep)\n",
    "    \n",
    "file.close()  \n",
    "print(lista32) "
   ]
  }
 ],
 "metadata": {
  "kernelspec": {
   "display_name": "env",
   "language": "python",
   "name": "python3"
  },
  "language_info": {
   "codemirror_mode": {
    "name": "ipython",
    "version": 3
   },
   "file_extension": ".py",
   "mimetype": "text/x-python",
   "name": "python",
   "nbconvert_exporter": "python",
   "pygments_lexer": "ipython3",
   "version": "3.8.10"
  },
  "orig_nbformat": 4,
  "vscode": {
   "interpreter": {
    "hash": "d0544f3d8f88c277ece8a7bca9c4cae84dfc7832020b3e571294385a87fe1e90"
   }
  }
 },
 "nbformat": 4,
 "nbformat_minor": 2
}
